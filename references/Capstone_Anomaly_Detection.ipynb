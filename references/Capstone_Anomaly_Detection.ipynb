{
 "cells": [
  {
   "cell_type": "markdown",
   "metadata": {},
   "source": [
    "# Capstone: Anomaly Detection - Step 2 Data Wrangling\n",
    "\n",
    "Data wrangling is the second step in the Data Science Method. This step consists of multiple components including Data Collection, Data Organization, Data Definitions, and Data Cleaning.  "
   ]
  },
  {
   "cell_type": "markdown",
   "metadata": {},
   "source": [
    "**The Data Science Method**  \n",
    "\n",
    "\n",
    "1.   Problem Identification \n",
    "\n",
    "2.   **Data Wrangling** \n",
    "  * Data Collection\n",
    "      - Locating the data\n",
    "      - Data loading\n",
    "      - Data joining\n",
    "   * Data Diagnosis\n",
    "      -  Data profiling\n",
    "      -  Preliminary EDA\n",
    "  * Data Definition\n",
    "      - Column names\n",
    "      - Data types (numeric, categorical, timestamp, etc.)\n",
    "      - Description of the columns\n",
    "      - Count or percent per unique values or codes (including NA)\n",
    "      - The range of values or codes  \n",
    "  * Data Cleaning\n",
    "      - NA or missing data\n",
    "      - Duplicates\n",
    " \n",
    "3.   Exploratory Data Analysis \n",
    "\n",
    "4.   Pre-processing and Training Data Development\n",
    "\n",
    "5.   Modeling \n",
    "\n",
    "6.   Documentation\n"
   ]
  },
  {
   "cell_type": "markdown",
   "metadata": {},
   "source": [
    "## Data Collection\n",
    "<font color='teal'>**First, let's load the needed packages and modules into Python. Then I will load the dataset into pandas dataframe for ease of use.**</font>\n"
   ]
  },
  {
   "cell_type": "code",
   "execution_count": 1,
   "metadata": {},
   "outputs": [],
   "source": [
    "import os\n",
    "import numpy as np\n",
    "import pandas as pd\n",
    "import datetime\n",
    "import kaggle as kg\n",
    "import requests\n",
    "from pathlib import Path\n",
    "import pandas_profiling\n",
    "from pandas_profiling.utils.cache import cache_file\n",
    "import matplotlib.pyplot as plt\n",
    "import glob"
   ]
  },
  {
   "cell_type": "markdown",
   "metadata": {},
   "source": [
    "<font color='teal'>**Set your working directory correctly**</font>"
   ]
  },
  {
   "cell_type": "code",
   "execution_count": 46,
   "metadata": {},
   "outputs": [
    {
     "data": {
      "text/plain": [
       "'C:\\\\Users\\\\Bauyrjan.Jyenis\\\\Capstone2_Project\\\\capstone\\\\data\\\\raw'"
      ]
     },
     "execution_count": 46,
     "metadata": {},
     "output_type": "execute_result"
    }
   ],
   "source": [
    "os.getcwd()"
   ]
  },
  {
   "cell_type": "code",
   "execution_count": 44,
   "metadata": {},
   "outputs": [],
   "source": [
    "path = 'C:\\\\Users\\\\Bauyrjan.Jyenis\\\\Capstone2_Project\\\\capstone\\\\data\\\\raw'\n",
    "os.chdir(path)"
   ]
  },
  {
   "cell_type": "markdown",
   "metadata": {},
   "source": [
    "### DON'T RUN THE CODE IN NEXT LINE AFTER THE INITIAL RUN !!!\n",
    "\n",
    "First, download the data set from Kaggle page https://www.kaggle.com/inIT-OWL/production-plant-data-for-condition-monitoring"
   ]
  },
  {
   "cell_type": "code",
   "execution_count": 4,
   "metadata": {},
   "outputs": [
    {
     "name": "stdout",
     "output_type": "stream",
     "text": [
      "Downloading production-plant-data-for-condition-monitoring.zip to C:\\Users\\Bauyrjan.Jyenis\\Capstone2_Project\\capstone\\data\\raw\n",
      "\n"
     ]
    },
    {
     "name": "stderr",
     "output_type": "stream",
     "text": [
      "\n",
      "  0%|          | 0.00/27.0M [00:00<?, ?B/s]\n",
      "  4%|3         | 1.00M/27.0M [00:00<00:12, 2.09MB/s]\n",
      "  7%|7         | 2.00M/27.0M [00:01<00:12, 2.07MB/s]\n",
      " 11%|#1        | 3.00M/27.0M [00:01<00:11, 2.17MB/s]\n",
      " 15%|#4        | 4.00M/27.0M [00:01<00:10, 2.33MB/s]\n",
      " 19%|#8        | 5.00M/27.0M [00:02<00:09, 2.31MB/s]\n",
      " 22%|##2       | 6.00M/27.0M [00:02<00:08, 2.55MB/s]\n",
      " 26%|##5       | 7.00M/27.0M [00:02<00:07, 2.78MB/s]\n",
      " 30%|##9       | 8.00M/27.0M [00:03<00:06, 3.03MB/s]\n",
      " 33%|###3      | 9.00M/27.0M [00:03<00:05, 3.18MB/s]\n",
      " 37%|###7      | 10.0M/27.0M [00:03<00:05, 3.33MB/s]\n",
      " 41%|####      | 11.0M/27.0M [00:04<00:05, 3.15MB/s]\n",
      " 45%|####4     | 12.0M/27.0M [00:04<00:05, 2.70MB/s]\n",
      " 48%|####8     | 13.0M/27.0M [00:05<00:05, 2.58MB/s]\n",
      " 52%|#####1    | 14.0M/27.0M [00:05<00:05, 2.27MB/s]\n",
      " 56%|#####5    | 15.0M/27.0M [00:06<00:05, 2.26MB/s]\n",
      " 59%|#####9    | 16.0M/27.0M [00:06<00:04, 2.44MB/s]\n",
      " 63%|######3   | 17.0M/27.0M [00:06<00:03, 2.64MB/s]\n",
      " 67%|######6   | 18.0M/27.0M [00:07<00:03, 2.93MB/s]\n",
      " 70%|#######   | 19.0M/27.0M [00:07<00:02, 3.10MB/s]\n",
      " 74%|#######4  | 20.0M/27.0M [00:07<00:02, 3.42MB/s]\n",
      " 78%|#######7  | 21.0M/27.0M [00:07<00:01, 3.58MB/s]\n",
      " 82%|########1 | 22.0M/27.0M [00:08<00:01, 3.85MB/s]\n",
      " 85%|########5 | 23.0M/27.0M [00:08<00:01, 3.67MB/s]\n",
      " 89%|########9 | 24.0M/27.0M [00:08<00:00, 3.15MB/s]\n",
      " 93%|#########2| 25.0M/27.0M [00:09<00:00, 2.80MB/s]\n",
      " 96%|#########6| 26.0M/27.0M [00:09<00:00, 2.44MB/s]\n",
      "100%|##########| 27.0M/27.0M [00:10<00:00, 2.24MB/s]\n",
      "100%|##########| 27.0M/27.0M [00:10<00:00, 2.71MB/s]\n"
     ]
    }
   ],
   "source": [
    "!kaggle datasets download -d inIT-OWL/production-plant-data-for-condition-monitoring"
   ]
  },
  {
   "cell_type": "markdown",
   "metadata": {},
   "source": [
    "<font color='teal'>**Unzip the zip file to extract CSV files in the working directory**</font>"
   ]
  },
  {
   "cell_type": "code",
   "execution_count": 5,
   "metadata": {},
   "outputs": [],
   "source": [
    "import zipfile\n",
    "with zipfile.ZipFile('production-plant-data-for-condition-monitoring.zip', 'r') as zip_ref:\n",
    "    zip_ref.extractall()"
   ]
  },
  {
   "cell_type": "markdown",
   "metadata": {},
   "source": [
    "<font color='teal'>**Read CSV files into pandas dataframes**</font>"
   ]
  },
  {
   "cell_type": "code",
   "execution_count": 47,
   "metadata": {},
   "outputs": [
    {
     "name": "stdout",
     "output_type": "stream",
     "text": [
      "['C11.csv', 'C13-1.csv', 'C13-2.csv', 'C14.csv', 'C15.csv', 'C16.csv', 'C7-1.csv', 'C7-2.csv', 'C8.csv', 'C9.csv']\n"
     ]
    }
   ],
   "source": [
    "csv_files = glob.glob('*.csv')\n",
    "print(csv_files)"
   ]
  },
  {
   "cell_type": "code",
   "execution_count": 48,
   "metadata": {},
   "outputs": [],
   "source": [
    "list_data = []\n",
    "for filename in csv_files:\n",
    "    data = pd.read_csv(filename)\n",
    "    list_data.append(data)"
   ]
  },
  {
   "cell_type": "code",
   "execution_count": 49,
   "metadata": {},
   "outputs": [],
   "source": [
    "df = pd.concat(list_data, ignore_index=True)"
   ]
  },
  {
   "cell_type": "code",
   "execution_count": 50,
   "metadata": {},
   "outputs": [
    {
     "data": {
      "text/plain": [
       "(228424, 26)"
      ]
     },
     "execution_count": 50,
     "metadata": {},
     "output_type": "execute_result"
    }
   ],
   "source": [
    "df.shape"
   ]
  },
  {
   "cell_type": "markdown",
   "metadata": {},
   "source": [
    "## Diagnosis"
   ]
  },
  {
   "cell_type": "markdown",
   "metadata": {},
   "source": [
    "<font color='teal'>**Create and export data profile report using pandas-profiling package**</font>"
   ]
  },
  {
   "cell_type": "code",
   "execution_count": 8,
   "metadata": {},
   "outputs": [],
   "source": [
    "profile_report = df.profile_report(html={'style': {'full_width': True}})\n",
    "profile_report.to_file(\"df-profile_report.html\")"
   ]
  },
  {
   "cell_type": "markdown",
   "metadata": {},
   "source": [
    "<font color='teal'>**Look at the first and last 5 rows, columns and data types of the data set**</font>"
   ]
  },
  {
   "cell_type": "code",
   "execution_count": 51,
   "metadata": {},
   "outputs": [
    {
     "data": {
      "text/html": [
       "<div>\n",
       "<style scoped>\n",
       "    .dataframe tbody tr th:only-of-type {\n",
       "        vertical-align: middle;\n",
       "    }\n",
       "\n",
       "    .dataframe tbody tr th {\n",
       "        vertical-align: top;\n",
       "    }\n",
       "\n",
       "    .dataframe thead th {\n",
       "        text-align: right;\n",
       "    }\n",
       "</style>\n",
       "<table border=\"1\" class=\"dataframe\">\n",
       "  <thead>\n",
       "    <tr style=\"text-align: right;\">\n",
       "      <th></th>\n",
       "      <th>Timestamp</th>\n",
       "      <th>L_1</th>\n",
       "      <th>L_2</th>\n",
       "      <th>A_1</th>\n",
       "      <th>A_2</th>\n",
       "      <th>B_1</th>\n",
       "      <th>B_2</th>\n",
       "      <th>C_1</th>\n",
       "      <th>C_2</th>\n",
       "      <th>A_3</th>\n",
       "      <th>...</th>\n",
       "      <th>L_4</th>\n",
       "      <th>L_5</th>\n",
       "      <th>L_6</th>\n",
       "      <th>L_7</th>\n",
       "      <th>L_8</th>\n",
       "      <th>L_9</th>\n",
       "      <th>L_10</th>\n",
       "      <th>A_5</th>\n",
       "      <th>B_5</th>\n",
       "      <th>C_5</th>\n",
       "    </tr>\n",
       "  </thead>\n",
       "  <tbody>\n",
       "    <tr>\n",
       "      <th>0</th>\n",
       "      <td>0</td>\n",
       "      <td>-20.470767</td>\n",
       "      <td>-49.583696</td>\n",
       "      <td>-49.737023</td>\n",
       "      <td>-60.125877</td>\n",
       "      <td>-67.684702</td>\n",
       "      <td>-67.213115</td>\n",
       "      <td>-75.635206</td>\n",
       "      <td>-75.398126</td>\n",
       "      <td>-45.568737</td>\n",
       "      <td>...</td>\n",
       "      <td>-98.610796</td>\n",
       "      <td>-77.922564</td>\n",
       "      <td>-65.288020</td>\n",
       "      <td>-21.577296</td>\n",
       "      <td>-5.229818</td>\n",
       "      <td>-20.021259</td>\n",
       "      <td>-53.399733</td>\n",
       "      <td>-100.0</td>\n",
       "      <td>-100.0</td>\n",
       "      <td>-100.0</td>\n",
       "    </tr>\n",
       "    <tr>\n",
       "      <th>1</th>\n",
       "      <td>1</td>\n",
       "      <td>-4.874715</td>\n",
       "      <td>-37.094569</td>\n",
       "      <td>-25.009528</td>\n",
       "      <td>-35.579886</td>\n",
       "      <td>-33.459741</td>\n",
       "      <td>-35.514754</td>\n",
       "      <td>-33.369469</td>\n",
       "      <td>-35.644538</td>\n",
       "      <td>-51.259983</td>\n",
       "      <td>...</td>\n",
       "      <td>-98.610796</td>\n",
       "      <td>-77.922564</td>\n",
       "      <td>-59.527626</td>\n",
       "      <td>-8.114661</td>\n",
       "      <td>-7.114716</td>\n",
       "      <td>-4.532685</td>\n",
       "      <td>-52.568426</td>\n",
       "      <td>-100.0</td>\n",
       "      <td>-100.0</td>\n",
       "      <td>-100.0</td>\n",
       "    </tr>\n",
       "    <tr>\n",
       "      <th>2</th>\n",
       "      <td>2</td>\n",
       "      <td>25.132878</td>\n",
       "      <td>-40.673543</td>\n",
       "      <td>-25.040018</td>\n",
       "      <td>-35.461876</td>\n",
       "      <td>-33.527460</td>\n",
       "      <td>-35.659016</td>\n",
       "      <td>-33.274612</td>\n",
       "      <td>-35.644538</td>\n",
       "      <td>-56.656587</td>\n",
       "      <td>...</td>\n",
       "      <td>-98.610796</td>\n",
       "      <td>-77.922564</td>\n",
       "      <td>-67.083467</td>\n",
       "      <td>22.033657</td>\n",
       "      <td>-17.198404</td>\n",
       "      <td>25.123377</td>\n",
       "      <td>-47.439417</td>\n",
       "      <td>-100.0</td>\n",
       "      <td>-100.0</td>\n",
       "      <td>-100.0</td>\n",
       "    </tr>\n",
       "    <tr>\n",
       "      <th>3</th>\n",
       "      <td>3</td>\n",
       "      <td>-90.508732</td>\n",
       "      <td>-76.363862</td>\n",
       "      <td>-25.238204</td>\n",
       "      <td>-35.592998</td>\n",
       "      <td>-33.459741</td>\n",
       "      <td>-35.593443</td>\n",
       "      <td>-33.396572</td>\n",
       "      <td>-35.552789</td>\n",
       "      <td>-52.903776</td>\n",
       "      <td>...</td>\n",
       "      <td>-98.610796</td>\n",
       "      <td>-77.922564</td>\n",
       "      <td>-98.546543</td>\n",
       "      <td>-85.325157</td>\n",
       "      <td>-41.011974</td>\n",
       "      <td>-91.739428</td>\n",
       "      <td>-93.192691</td>\n",
       "      <td>-100.0</td>\n",
       "      <td>-100.0</td>\n",
       "      <td>-100.0</td>\n",
       "    </tr>\n",
       "    <tr>\n",
       "      <th>4</th>\n",
       "      <td>4</td>\n",
       "      <td>-95.641610</td>\n",
       "      <td>-62.582329</td>\n",
       "      <td>-24.963793</td>\n",
       "      <td>-35.488101</td>\n",
       "      <td>-33.459741</td>\n",
       "      <td>-35.449180</td>\n",
       "      <td>-33.369469</td>\n",
       "      <td>-35.552789</td>\n",
       "      <td>-56.377452</td>\n",
       "      <td>...</td>\n",
       "      <td>-98.610796</td>\n",
       "      <td>-77.922564</td>\n",
       "      <td>-82.718820</td>\n",
       "      <td>-92.213349</td>\n",
       "      <td>-24.248745</td>\n",
       "      <td>-96.082302</td>\n",
       "      <td>-70.919928</td>\n",
       "      <td>-100.0</td>\n",
       "      <td>-100.0</td>\n",
       "      <td>-100.0</td>\n",
       "    </tr>\n",
       "  </tbody>\n",
       "</table>\n",
       "<p>5 rows × 26 columns</p>\n",
       "</div>"
      ],
      "text/plain": [
       "   Timestamp        L_1        L_2        A_1        A_2        B_1  \\\n",
       "0          0 -20.470767 -49.583696 -49.737023 -60.125877 -67.684702   \n",
       "1          1  -4.874715 -37.094569 -25.009528 -35.579886 -33.459741   \n",
       "2          2  25.132878 -40.673543 -25.040018 -35.461876 -33.527460   \n",
       "3          3 -90.508732 -76.363862 -25.238204 -35.592998 -33.459741   \n",
       "4          4 -95.641610 -62.582329 -24.963793 -35.488101 -33.459741   \n",
       "\n",
       "         B_2        C_1        C_2        A_3  ...        L_4        L_5  \\\n",
       "0 -67.213115 -75.635206 -75.398126 -45.568737  ... -98.610796 -77.922564   \n",
       "1 -35.514754 -33.369469 -35.644538 -51.259983  ... -98.610796 -77.922564   \n",
       "2 -35.659016 -33.274612 -35.644538 -56.656587  ... -98.610796 -77.922564   \n",
       "3 -35.593443 -33.396572 -35.552789 -52.903776  ... -98.610796 -77.922564   \n",
       "4 -35.449180 -33.369469 -35.552789 -56.377452  ... -98.610796 -77.922564   \n",
       "\n",
       "         L_6        L_7        L_8        L_9       L_10    A_5    B_5    C_5  \n",
       "0 -65.288020 -21.577296  -5.229818 -20.021259 -53.399733 -100.0 -100.0 -100.0  \n",
       "1 -59.527626  -8.114661  -7.114716  -4.532685 -52.568426 -100.0 -100.0 -100.0  \n",
       "2 -67.083467  22.033657 -17.198404  25.123377 -47.439417 -100.0 -100.0 -100.0  \n",
       "3 -98.546543 -85.325157 -41.011974 -91.739428 -93.192691 -100.0 -100.0 -100.0  \n",
       "4 -82.718820 -92.213349 -24.248745 -96.082302 -70.919928 -100.0 -100.0 -100.0  \n",
       "\n",
       "[5 rows x 26 columns]"
      ]
     },
     "execution_count": 51,
     "metadata": {},
     "output_type": "execute_result"
    }
   ],
   "source": [
    "df.head()"
   ]
  },
  {
   "cell_type": "code",
   "execution_count": 52,
   "metadata": {},
   "outputs": [
    {
     "data": {
      "text/html": [
       "<div>\n",
       "<style scoped>\n",
       "    .dataframe tbody tr th:only-of-type {\n",
       "        vertical-align: middle;\n",
       "    }\n",
       "\n",
       "    .dataframe tbody tr th {\n",
       "        vertical-align: top;\n",
       "    }\n",
       "\n",
       "    .dataframe thead th {\n",
       "        text-align: right;\n",
       "    }\n",
       "</style>\n",
       "<table border=\"1\" class=\"dataframe\">\n",
       "  <thead>\n",
       "    <tr style=\"text-align: right;\">\n",
       "      <th></th>\n",
       "      <th>Timestamp</th>\n",
       "      <th>L_1</th>\n",
       "      <th>L_2</th>\n",
       "      <th>A_1</th>\n",
       "      <th>A_2</th>\n",
       "      <th>B_1</th>\n",
       "      <th>B_2</th>\n",
       "      <th>C_1</th>\n",
       "      <th>C_2</th>\n",
       "      <th>A_3</th>\n",
       "      <th>...</th>\n",
       "      <th>L_4</th>\n",
       "      <th>L_5</th>\n",
       "      <th>L_6</th>\n",
       "      <th>L_7</th>\n",
       "      <th>L_8</th>\n",
       "      <th>L_9</th>\n",
       "      <th>L_10</th>\n",
       "      <th>A_5</th>\n",
       "      <th>B_5</th>\n",
       "      <th>C_5</th>\n",
       "    </tr>\n",
       "  </thead>\n",
       "  <tbody>\n",
       "    <tr>\n",
       "      <th>228419</th>\n",
       "      <td>34240</td>\n",
       "      <td>-99.331815</td>\n",
       "      <td>-79.731577</td>\n",
       "      <td>-100.0</td>\n",
       "      <td>-100.0</td>\n",
       "      <td>-100.0</td>\n",
       "      <td>-100.0</td>\n",
       "      <td>-99.972898</td>\n",
       "      <td>-100.0</td>\n",
       "      <td>-80.708692</td>\n",
       "      <td>...</td>\n",
       "      <td>-97.765194</td>\n",
       "      <td>-73.324347</td>\n",
       "      <td>-82.547825</td>\n",
       "      <td>-93.710782</td>\n",
       "      <td>-26.761942</td>\n",
       "      <td>-97.60079</td>\n",
       "      <td>-61.242256</td>\n",
       "      <td>-100.0</td>\n",
       "      <td>-100.0</td>\n",
       "      <td>-100.0</td>\n",
       "    </tr>\n",
       "    <tr>\n",
       "      <th>228420</th>\n",
       "      <td>34241</td>\n",
       "      <td>-99.331815</td>\n",
       "      <td>-79.731577</td>\n",
       "      <td>-100.0</td>\n",
       "      <td>-100.0</td>\n",
       "      <td>-100.0</td>\n",
       "      <td>-100.0</td>\n",
       "      <td>-99.972898</td>\n",
       "      <td>-100.0</td>\n",
       "      <td>-80.708692</td>\n",
       "      <td>...</td>\n",
       "      <td>-97.765194</td>\n",
       "      <td>-73.324347</td>\n",
       "      <td>-82.547825</td>\n",
       "      <td>-93.682259</td>\n",
       "      <td>-26.952491</td>\n",
       "      <td>-97.60079</td>\n",
       "      <td>-66.277155</td>\n",
       "      <td>-100.0</td>\n",
       "      <td>-100.0</td>\n",
       "      <td>-100.0</td>\n",
       "    </tr>\n",
       "    <tr>\n",
       "      <th>228421</th>\n",
       "      <td>34242</td>\n",
       "      <td>-99.331815</td>\n",
       "      <td>-79.731577</td>\n",
       "      <td>-100.0</td>\n",
       "      <td>-100.0</td>\n",
       "      <td>-100.0</td>\n",
       "      <td>-100.0</td>\n",
       "      <td>-99.972898</td>\n",
       "      <td>-100.0</td>\n",
       "      <td>-80.708692</td>\n",
       "      <td>...</td>\n",
       "      <td>-97.765194</td>\n",
       "      <td>-73.324347</td>\n",
       "      <td>-82.547825</td>\n",
       "      <td>-93.682259</td>\n",
       "      <td>-25.041844</td>\n",
       "      <td>-97.60079</td>\n",
       "      <td>-66.277155</td>\n",
       "      <td>-100.0</td>\n",
       "      <td>-100.0</td>\n",
       "      <td>-100.0</td>\n",
       "    </tr>\n",
       "    <tr>\n",
       "      <th>228422</th>\n",
       "      <td>34243</td>\n",
       "      <td>-99.331815</td>\n",
       "      <td>-79.731577</td>\n",
       "      <td>-100.0</td>\n",
       "      <td>-100.0</td>\n",
       "      <td>-100.0</td>\n",
       "      <td>-100.0</td>\n",
       "      <td>-99.972898</td>\n",
       "      <td>-100.0</td>\n",
       "      <td>-80.708692</td>\n",
       "      <td>...</td>\n",
       "      <td>-97.765194</td>\n",
       "      <td>-73.324347</td>\n",
       "      <td>-82.547825</td>\n",
       "      <td>-93.653736</td>\n",
       "      <td>-25.026394</td>\n",
       "      <td>-97.60079</td>\n",
       "      <td>-67.061407</td>\n",
       "      <td>-100.0</td>\n",
       "      <td>-100.0</td>\n",
       "      <td>-100.0</td>\n",
       "    </tr>\n",
       "    <tr>\n",
       "      <th>228423</th>\n",
       "      <td>34244</td>\n",
       "      <td>-96.932422</td>\n",
       "      <td>-79.731577</td>\n",
       "      <td>-100.0</td>\n",
       "      <td>-100.0</td>\n",
       "      <td>-100.0</td>\n",
       "      <td>-100.0</td>\n",
       "      <td>-99.972898</td>\n",
       "      <td>-100.0</td>\n",
       "      <td>-80.708692</td>\n",
       "      <td>...</td>\n",
       "      <td>-97.765194</td>\n",
       "      <td>-73.324347</td>\n",
       "      <td>-82.547825</td>\n",
       "      <td>-93.653736</td>\n",
       "      <td>-26.612592</td>\n",
       "      <td>-97.60079</td>\n",
       "      <td>-67.343738</td>\n",
       "      <td>-100.0</td>\n",
       "      <td>-100.0</td>\n",
       "      <td>-100.0</td>\n",
       "    </tr>\n",
       "  </tbody>\n",
       "</table>\n",
       "<p>5 rows × 26 columns</p>\n",
       "</div>"
      ],
      "text/plain": [
       "        Timestamp        L_1        L_2    A_1    A_2    B_1    B_2  \\\n",
       "228419      34240 -99.331815 -79.731577 -100.0 -100.0 -100.0 -100.0   \n",
       "228420      34241 -99.331815 -79.731577 -100.0 -100.0 -100.0 -100.0   \n",
       "228421      34242 -99.331815 -79.731577 -100.0 -100.0 -100.0 -100.0   \n",
       "228422      34243 -99.331815 -79.731577 -100.0 -100.0 -100.0 -100.0   \n",
       "228423      34244 -96.932422 -79.731577 -100.0 -100.0 -100.0 -100.0   \n",
       "\n",
       "              C_1    C_2        A_3  ...        L_4        L_5        L_6  \\\n",
       "228419 -99.972898 -100.0 -80.708692  ... -97.765194 -73.324347 -82.547825   \n",
       "228420 -99.972898 -100.0 -80.708692  ... -97.765194 -73.324347 -82.547825   \n",
       "228421 -99.972898 -100.0 -80.708692  ... -97.765194 -73.324347 -82.547825   \n",
       "228422 -99.972898 -100.0 -80.708692  ... -97.765194 -73.324347 -82.547825   \n",
       "228423 -99.972898 -100.0 -80.708692  ... -97.765194 -73.324347 -82.547825   \n",
       "\n",
       "              L_7        L_8       L_9       L_10    A_5    B_5    C_5  \n",
       "228419 -93.710782 -26.761942 -97.60079 -61.242256 -100.0 -100.0 -100.0  \n",
       "228420 -93.682259 -26.952491 -97.60079 -66.277155 -100.0 -100.0 -100.0  \n",
       "228421 -93.682259 -25.041844 -97.60079 -66.277155 -100.0 -100.0 -100.0  \n",
       "228422 -93.653736 -25.026394 -97.60079 -67.061407 -100.0 -100.0 -100.0  \n",
       "228423 -93.653736 -26.612592 -97.60079 -67.343738 -100.0 -100.0 -100.0  \n",
       "\n",
       "[5 rows x 26 columns]"
      ]
     },
     "execution_count": 52,
     "metadata": {},
     "output_type": "execute_result"
    }
   ],
   "source": [
    "df.tail()"
   ]
  },
  {
   "cell_type": "code",
   "execution_count": 53,
   "metadata": {},
   "outputs": [
    {
     "data": {
      "text/plain": [
       "Index(['Timestamp', 'L_1', 'L_2', 'A_1', 'A_2', 'B_1', 'B_2', 'C_1', 'C_2',\n",
       "       'A_3', 'A_4', 'B_3', 'B_4', 'C_3', 'C_4', 'L_3', 'L_4', 'L_5', 'L_6',\n",
       "       'L_7', 'L_8', 'L_9', 'L_10', 'A_5', 'B_5', 'C_5'],\n",
       "      dtype='object')"
      ]
     },
     "execution_count": 53,
     "metadata": {},
     "output_type": "execute_result"
    }
   ],
   "source": [
    "df.columns"
   ]
  },
  {
   "cell_type": "code",
   "execution_count": 54,
   "metadata": {},
   "outputs": [
    {
     "name": "stdout",
     "output_type": "stream",
     "text": [
      "<class 'pandas.core.frame.DataFrame'>\n",
      "RangeIndex: 228424 entries, 0 to 228423\n",
      "Data columns (total 26 columns):\n",
      " #   Column     Non-Null Count   Dtype  \n",
      "---  ------     --------------   -----  \n",
      " 0   Timestamp  228424 non-null  int64  \n",
      " 1   L_1        228412 non-null  float64\n",
      " 2   L_2        228412 non-null  float64\n",
      " 3   A_1        228412 non-null  float64\n",
      " 4   A_2        228412 non-null  float64\n",
      " 5   B_1        228412 non-null  float64\n",
      " 6   B_2        228412 non-null  float64\n",
      " 7   C_1        228412 non-null  float64\n",
      " 8   C_2        228412 non-null  float64\n",
      " 9   A_3        228412 non-null  float64\n",
      " 10  A_4        228412 non-null  float64\n",
      " 11  B_3        228412 non-null  float64\n",
      " 12  B_4        228412 non-null  float64\n",
      " 13  C_3        228412 non-null  float64\n",
      " 14  C_4        228412 non-null  float64\n",
      " 15  L_3        228412 non-null  float64\n",
      " 16  L_4        228412 non-null  float64\n",
      " 17  L_5        228412 non-null  float64\n",
      " 18  L_6        228412 non-null  float64\n",
      " 19  L_7        228412 non-null  float64\n",
      " 20  L_8        228412 non-null  float64\n",
      " 21  L_9        228412 non-null  float64\n",
      " 22  L_10       228412 non-null  float64\n",
      " 23  A_5        228412 non-null  float64\n",
      " 24  B_5        228412 non-null  float64\n",
      " 25  C_5        228412 non-null  float64\n",
      "dtypes: float64(25), int64(1)\n",
      "memory usage: 45.3 MB\n"
     ]
    }
   ],
   "source": [
    "df.info()"
   ]
  },
  {
   "cell_type": "markdown",
   "metadata": {},
   "source": [
    "<font color='teal'>**Initial EDA**</font>\n",
    "\n",
    "- Count of unique values\n",
    "- Numeric columns\n",
    "- Missing values\n",
    "- Summary stats\n",
    "- Outliers\n",
    "    - Considerably higher or lower\n",
    "    - Require further investigation"
   ]
  },
  {
   "cell_type": "code",
   "execution_count": 55,
   "metadata": {},
   "outputs": [
    {
     "data": {
      "text/plain": [
       "2047    10\n",
       "2125    10\n",
       "1355    10\n",
       "3530    10\n",
       "1483    10\n",
       "Name: Timestamp, dtype: int64"
      ]
     },
     "execution_count": 55,
     "metadata": {},
     "output_type": "execute_result"
    }
   ],
   "source": [
    "# Let's count the unique values of one of the columns\n",
    "df['Timestamp'].value_counts(dropna=False).head()"
   ]
  },
  {
   "cell_type": "code",
   "execution_count": 56,
   "metadata": {},
   "outputs": [
    {
     "data": {
      "text/html": [
       "<div>\n",
       "<style scoped>\n",
       "    .dataframe tbody tr th:only-of-type {\n",
       "        vertical-align: middle;\n",
       "    }\n",
       "\n",
       "    .dataframe tbody tr th {\n",
       "        vertical-align: top;\n",
       "    }\n",
       "\n",
       "    .dataframe thead th {\n",
       "        text-align: right;\n",
       "    }\n",
       "</style>\n",
       "<table border=\"1\" class=\"dataframe\">\n",
       "  <thead>\n",
       "    <tr style=\"text-align: right;\">\n",
       "      <th></th>\n",
       "      <th>count</th>\n",
       "      <th>mean</th>\n",
       "      <th>std</th>\n",
       "      <th>min</th>\n",
       "      <th>25%</th>\n",
       "      <th>50%</th>\n",
       "      <th>75%</th>\n",
       "      <th>max</th>\n",
       "    </tr>\n",
       "  </thead>\n",
       "  <tbody>\n",
       "    <tr>\n",
       "      <th>Timestamp</th>\n",
       "      <td>228424.0</td>\n",
       "      <td>13406.915079</td>\n",
       "      <td>8989.680556</td>\n",
       "      <td>0.0</td>\n",
       "      <td>5909.000000</td>\n",
       "      <td>12254.000000</td>\n",
       "      <td>19365.000000</td>\n",
       "      <td>34697.0</td>\n",
       "    </tr>\n",
       "    <tr>\n",
       "      <th>L_1</th>\n",
       "      <td>228412.0</td>\n",
       "      <td>55.973554</td>\n",
       "      <td>42.782118</td>\n",
       "      <td>-100.0</td>\n",
       "      <td>55.717540</td>\n",
       "      <td>60.652999</td>\n",
       "      <td>83.037206</td>\n",
       "      <td>100.0</td>\n",
       "    </tr>\n",
       "    <tr>\n",
       "      <th>L_2</th>\n",
       "      <td>228412.0</td>\n",
       "      <td>14.789952</td>\n",
       "      <td>24.470182</td>\n",
       "      <td>-100.0</td>\n",
       "      <td>6.673294</td>\n",
       "      <td>15.807133</td>\n",
       "      <td>27.190257</td>\n",
       "      <td>100.0</td>\n",
       "    </tr>\n",
       "    <tr>\n",
       "      <th>A_1</th>\n",
       "      <td>228412.0</td>\n",
       "      <td>69.121850</td>\n",
       "      <td>29.770464</td>\n",
       "      <td>-100.0</td>\n",
       "      <td>74.723683</td>\n",
       "      <td>74.830399</td>\n",
       "      <td>74.906624</td>\n",
       "      <td>100.0</td>\n",
       "    </tr>\n",
       "    <tr>\n",
       "      <th>A_2</th>\n",
       "      <td>228412.0</td>\n",
       "      <td>76.068734</td>\n",
       "      <td>33.009632</td>\n",
       "      <td>-100.0</td>\n",
       "      <td>82.534583</td>\n",
       "      <td>82.613256</td>\n",
       "      <td>89.051334</td>\n",
       "      <td>100.0</td>\n",
       "    </tr>\n",
       "    <tr>\n",
       "      <th>B_1</th>\n",
       "      <td>228412.0</td>\n",
       "      <td>56.457228</td>\n",
       "      <td>26.990088</td>\n",
       "      <td>-100.0</td>\n",
       "      <td>55.319293</td>\n",
       "      <td>66.330331</td>\n",
       "      <td>66.425137</td>\n",
       "      <td>100.0</td>\n",
       "    </tr>\n",
       "    <tr>\n",
       "      <th>B_2</th>\n",
       "      <td>228412.0</td>\n",
       "      <td>76.740953</td>\n",
       "      <td>32.678891</td>\n",
       "      <td>-100.0</td>\n",
       "      <td>82.596721</td>\n",
       "      <td>82.649180</td>\n",
       "      <td>89.101639</td>\n",
       "      <td>100.0</td>\n",
       "    </tr>\n",
       "    <tr>\n",
       "      <th>C_1</th>\n",
       "      <td>228412.0</td>\n",
       "      <td>59.534030</td>\n",
       "      <td>27.192271</td>\n",
       "      <td>-100.0</td>\n",
       "      <td>66.420489</td>\n",
       "      <td>66.515347</td>\n",
       "      <td>66.569551</td>\n",
       "      <td>100.0</td>\n",
       "    </tr>\n",
       "    <tr>\n",
       "      <th>C_2</th>\n",
       "      <td>228412.0</td>\n",
       "      <td>75.947494</td>\n",
       "      <td>32.434466</td>\n",
       "      <td>-100.0</td>\n",
       "      <td>82.449702</td>\n",
       "      <td>82.541451</td>\n",
       "      <td>88.950783</td>\n",
       "      <td>100.0</td>\n",
       "    </tr>\n",
       "    <tr>\n",
       "      <th>A_3</th>\n",
       "      <td>228412.0</td>\n",
       "      <td>39.139038</td>\n",
       "      <td>25.561299</td>\n",
       "      <td>-100.0</td>\n",
       "      <td>38.125145</td>\n",
       "      <td>43.056525</td>\n",
       "      <td>47.259052</td>\n",
       "      <td>100.0</td>\n",
       "    </tr>\n",
       "    <tr>\n",
       "      <th>A_4</th>\n",
       "      <td>228412.0</td>\n",
       "      <td>56.685011</td>\n",
       "      <td>32.652517</td>\n",
       "      <td>-100.0</td>\n",
       "      <td>59.773549</td>\n",
       "      <td>62.981601</td>\n",
       "      <td>72.637207</td>\n",
       "      <td>100.0</td>\n",
       "    </tr>\n",
       "    <tr>\n",
       "      <th>B_3</th>\n",
       "      <td>228412.0</td>\n",
       "      <td>26.755235</td>\n",
       "      <td>22.791616</td>\n",
       "      <td>-100.0</td>\n",
       "      <td>21.832579</td>\n",
       "      <td>33.758888</td>\n",
       "      <td>38.154493</td>\n",
       "      <td>100.0</td>\n",
       "    </tr>\n",
       "    <tr>\n",
       "      <th>B_4</th>\n",
       "      <td>228412.0</td>\n",
       "      <td>57.807272</td>\n",
       "      <td>32.531083</td>\n",
       "      <td>-100.0</td>\n",
       "      <td>60.593318</td>\n",
       "      <td>63.605780</td>\n",
       "      <td>72.979586</td>\n",
       "      <td>100.0</td>\n",
       "    </tr>\n",
       "    <tr>\n",
       "      <th>C_3</th>\n",
       "      <td>228412.0</td>\n",
       "      <td>33.396718</td>\n",
       "      <td>23.556629</td>\n",
       "      <td>-100.0</td>\n",
       "      <td>35.138851</td>\n",
       "      <td>39.689304</td>\n",
       "      <td>41.586472</td>\n",
       "      <td>100.0</td>\n",
       "    </tr>\n",
       "    <tr>\n",
       "      <th>C_4</th>\n",
       "      <td>228412.0</td>\n",
       "      <td>51.642827</td>\n",
       "      <td>27.989420</td>\n",
       "      <td>-100.0</td>\n",
       "      <td>55.004342</td>\n",
       "      <td>57.207990</td>\n",
       "      <td>65.306122</td>\n",
       "      <td>100.0</td>\n",
       "    </tr>\n",
       "    <tr>\n",
       "      <th>L_3</th>\n",
       "      <td>228412.0</td>\n",
       "      <td>-57.807518</td>\n",
       "      <td>69.539946</td>\n",
       "      <td>-100.0</td>\n",
       "      <td>-97.974454</td>\n",
       "      <td>-97.944222</td>\n",
       "      <td>-49.920633</td>\n",
       "      <td>100.0</td>\n",
       "    </tr>\n",
       "    <tr>\n",
       "      <th>L_4</th>\n",
       "      <td>228412.0</td>\n",
       "      <td>18.741019</td>\n",
       "      <td>80.707592</td>\n",
       "      <td>-100.0</td>\n",
       "      <td>-98.625896</td>\n",
       "      <td>60.679526</td>\n",
       "      <td>85.413392</td>\n",
       "      <td>100.0</td>\n",
       "    </tr>\n",
       "    <tr>\n",
       "      <th>L_5</th>\n",
       "      <td>228412.0</td>\n",
       "      <td>-29.511224</td>\n",
       "      <td>31.032561</td>\n",
       "      <td>-100.0</td>\n",
       "      <td>-73.593949</td>\n",
       "      <td>-13.802142</td>\n",
       "      <td>-6.702614</td>\n",
       "      <td>100.0</td>\n",
       "    </tr>\n",
       "    <tr>\n",
       "      <th>L_6</th>\n",
       "      <td>228412.0</td>\n",
       "      <td>-70.286104</td>\n",
       "      <td>19.489932</td>\n",
       "      <td>-100.0</td>\n",
       "      <td>-82.547825</td>\n",
       "      <td>-80.966122</td>\n",
       "      <td>-46.681629</td>\n",
       "      <td>100.0</td>\n",
       "    </tr>\n",
       "    <tr>\n",
       "      <th>L_7</th>\n",
       "      <td>228412.0</td>\n",
       "      <td>54.502373</td>\n",
       "      <td>41.614870</td>\n",
       "      <td>-100.0</td>\n",
       "      <td>51.497433</td>\n",
       "      <td>61.152310</td>\n",
       "      <td>80.019966</td>\n",
       "      <td>100.0</td>\n",
       "    </tr>\n",
       "    <tr>\n",
       "      <th>L_8</th>\n",
       "      <td>228412.0</td>\n",
       "      <td>-26.256242</td>\n",
       "      <td>6.988444</td>\n",
       "      <td>-100.0</td>\n",
       "      <td>-30.423587</td>\n",
       "      <td>-26.458092</td>\n",
       "      <td>-21.998198</td>\n",
       "      <td>100.0</td>\n",
       "    </tr>\n",
       "    <tr>\n",
       "      <th>L_9</th>\n",
       "      <td>228412.0</td>\n",
       "      <td>58.247469</td>\n",
       "      <td>43.593216</td>\n",
       "      <td>-100.0</td>\n",
       "      <td>57.467163</td>\n",
       "      <td>63.343679</td>\n",
       "      <td>86.075469</td>\n",
       "      <td>100.0</td>\n",
       "    </tr>\n",
       "    <tr>\n",
       "      <th>L_10</th>\n",
       "      <td>228412.0</td>\n",
       "      <td>-26.871145</td>\n",
       "      <td>13.471848</td>\n",
       "      <td>-100.0</td>\n",
       "      <td>-32.209238</td>\n",
       "      <td>-25.543095</td>\n",
       "      <td>-19.190652</td>\n",
       "      <td>100.0</td>\n",
       "    </tr>\n",
       "    <tr>\n",
       "      <th>A_5</th>\n",
       "      <td>228412.0</td>\n",
       "      <td>86.380797</td>\n",
       "      <td>40.633421</td>\n",
       "      <td>-100.0</td>\n",
       "      <td>90.476195</td>\n",
       "      <td>100.000000</td>\n",
       "      <td>100.000000</td>\n",
       "      <td>100.0</td>\n",
       "    </tr>\n",
       "    <tr>\n",
       "      <th>B_5</th>\n",
       "      <td>228412.0</td>\n",
       "      <td>75.728702</td>\n",
       "      <td>41.970740</td>\n",
       "      <td>-100.0</td>\n",
       "      <td>83.333333</td>\n",
       "      <td>83.333333</td>\n",
       "      <td>100.000000</td>\n",
       "      <td>100.0</td>\n",
       "    </tr>\n",
       "    <tr>\n",
       "      <th>C_5</th>\n",
       "      <td>228412.0</td>\n",
       "      <td>81.812927</td>\n",
       "      <td>38.094381</td>\n",
       "      <td>-100.0</td>\n",
       "      <td>84.615385</td>\n",
       "      <td>93.846149</td>\n",
       "      <td>93.846149</td>\n",
       "      <td>100.0</td>\n",
       "    </tr>\n",
       "  </tbody>\n",
       "</table>\n",
       "</div>"
      ],
      "text/plain": [
       "              count          mean          std    min          25%  \\\n",
       "Timestamp  228424.0  13406.915079  8989.680556    0.0  5909.000000   \n",
       "L_1        228412.0     55.973554    42.782118 -100.0    55.717540   \n",
       "L_2        228412.0     14.789952    24.470182 -100.0     6.673294   \n",
       "A_1        228412.0     69.121850    29.770464 -100.0    74.723683   \n",
       "A_2        228412.0     76.068734    33.009632 -100.0    82.534583   \n",
       "B_1        228412.0     56.457228    26.990088 -100.0    55.319293   \n",
       "B_2        228412.0     76.740953    32.678891 -100.0    82.596721   \n",
       "C_1        228412.0     59.534030    27.192271 -100.0    66.420489   \n",
       "C_2        228412.0     75.947494    32.434466 -100.0    82.449702   \n",
       "A_3        228412.0     39.139038    25.561299 -100.0    38.125145   \n",
       "A_4        228412.0     56.685011    32.652517 -100.0    59.773549   \n",
       "B_3        228412.0     26.755235    22.791616 -100.0    21.832579   \n",
       "B_4        228412.0     57.807272    32.531083 -100.0    60.593318   \n",
       "C_3        228412.0     33.396718    23.556629 -100.0    35.138851   \n",
       "C_4        228412.0     51.642827    27.989420 -100.0    55.004342   \n",
       "L_3        228412.0    -57.807518    69.539946 -100.0   -97.974454   \n",
       "L_4        228412.0     18.741019    80.707592 -100.0   -98.625896   \n",
       "L_5        228412.0    -29.511224    31.032561 -100.0   -73.593949   \n",
       "L_6        228412.0    -70.286104    19.489932 -100.0   -82.547825   \n",
       "L_7        228412.0     54.502373    41.614870 -100.0    51.497433   \n",
       "L_8        228412.0    -26.256242     6.988444 -100.0   -30.423587   \n",
       "L_9        228412.0     58.247469    43.593216 -100.0    57.467163   \n",
       "L_10       228412.0    -26.871145    13.471848 -100.0   -32.209238   \n",
       "A_5        228412.0     86.380797    40.633421 -100.0    90.476195   \n",
       "B_5        228412.0     75.728702    41.970740 -100.0    83.333333   \n",
       "C_5        228412.0     81.812927    38.094381 -100.0    84.615385   \n",
       "\n",
       "                    50%           75%      max  \n",
       "Timestamp  12254.000000  19365.000000  34697.0  \n",
       "L_1           60.652999     83.037206    100.0  \n",
       "L_2           15.807133     27.190257    100.0  \n",
       "A_1           74.830399     74.906624    100.0  \n",
       "A_2           82.613256     89.051334    100.0  \n",
       "B_1           66.330331     66.425137    100.0  \n",
       "B_2           82.649180     89.101639    100.0  \n",
       "C_1           66.515347     66.569551    100.0  \n",
       "C_2           82.541451     88.950783    100.0  \n",
       "A_3           43.056525     47.259052    100.0  \n",
       "A_4           62.981601     72.637207    100.0  \n",
       "B_3           33.758888     38.154493    100.0  \n",
       "B_4           63.605780     72.979586    100.0  \n",
       "C_3           39.689304     41.586472    100.0  \n",
       "C_4           57.207990     65.306122    100.0  \n",
       "L_3          -97.944222    -49.920633    100.0  \n",
       "L_4           60.679526     85.413392    100.0  \n",
       "L_5          -13.802142     -6.702614    100.0  \n",
       "L_6          -80.966122    -46.681629    100.0  \n",
       "L_7           61.152310     80.019966    100.0  \n",
       "L_8          -26.458092    -21.998198    100.0  \n",
       "L_9           63.343679     86.075469    100.0  \n",
       "L_10         -25.543095    -19.190652    100.0  \n",
       "A_5          100.000000    100.000000    100.0  \n",
       "B_5           83.333333    100.000000    100.0  \n",
       "C_5           93.846149     93.846149    100.0  "
      ]
     },
     "execution_count": 56,
     "metadata": {},
     "output_type": "execute_result"
    }
   ],
   "source": [
    "# Let's take a look at the summary statistics for all columns\n",
    "df.describe().T"
   ]
  },
  {
   "cell_type": "markdown",
   "metadata": {},
   "source": [
    "<font color='teal'>**Visual EDA**</font>\n",
    "\n",
    "- Use Bar Plots for discrete data counts\n",
    "- Use Histograms for continuous data counts\n",
    "- Look at frequencies"
   ]
  },
  {
   "cell_type": "code",
   "execution_count": 57,
   "metadata": {},
   "outputs": [
    {
     "data": {
      "image/png": "[encoded data removed]",
      "text/plain": [
       "<Figure size 1440x1296 with 28 Axes>"
      ]
     },
     "metadata": {},
     "output_type": "display_data"
    }
   ],
   "source": [
    "# Histogram\n",
    "df.hist(df.columns, bins=25, layout=(7,4), figsize=(20, 18))\n",
    "plt.show()"
   ]
  },
  {
   "cell_type": "code",
   "execution_count": 58,
   "metadata": {},
   "outputs": [
    {
     "data": {
      "image/png": "[encoded data removed]",
      "text/plain": [
       "<Figure size 576x396 with 1 Axes>"
      ]
     },
     "metadata": {},
     "output_type": "display_data"
    }
   ],
   "source": [
    "df['L_1'].plot(kind='hist', rot=70, logx=False, logy=True)\n",
    "plt.show()"
   ]
  },
  {
   "cell_type": "code",
   "execution_count": 59,
   "metadata": {},
   "outputs": [
    {
     "data": {
      "image/png": "[encoded data removed]",
      "text/plain": [
       "<Figure size 864x1080 with 1 Axes>"
      ]
     },
     "metadata": {},
     "output_type": "display_data"
    }
   ],
   "source": [
    "# Boxplots\n",
    "bplot = df.drop(['Timestamp'], axis=1)\n",
    "boxplots = bplot.boxplot(grid=False, vert=False,fontsize=25, figsize=(12,15))"
   ]
  },
  {
   "cell_type": "code",
   "execution_count": 60,
   "metadata": {},
   "outputs": [
    {
     "data": {
      "image/png": "[encoded data removed]",
      "text/plain": [
       "<Figure size 576x396 with 1 Axes>"
      ]
     },
     "metadata": {},
     "output_type": "display_data"
    }
   ],
   "source": [
    "# Scatter plot\n",
    "df.plot(kind='scatter', x='L_1', y='B_1', rot=70)\n",
    "plt.show()"
   ]
  },
  {
   "cell_type": "markdown",
   "metadata": {},
   "source": [
    "## Data Cleaning\n",
    "- Does the columns represent seperate variables?\n",
    "- Do rows represent individual observations?\n",
    "- Do observational units form tables?\n",
    "\n",
    "Keep in mind: there are data formats that are better for reporting vs. better for analysis; tidy data makes it easier to fix common data problems"
   ]
  },
  {
   "cell_type": "markdown",
   "metadata": {},
   "source": [
    "<font color='teal'>**Convert timestamp column into proper datatime format**</font>"
   ]
  },
  {
   "cell_type": "code",
   "execution_count": 61,
   "metadata": {},
   "outputs": [],
   "source": [
    "df['Date'] = pd.to_datetime(df['Timestamp'], unit='s')"
   ]
  },
  {
   "cell_type": "code",
   "execution_count": 62,
   "metadata": {},
   "outputs": [],
   "source": [
    "df = df.drop(['Timestamp'], axis=1)"
   ]
  },
  {
   "cell_type": "code",
   "execution_count": 63,
   "metadata": {},
   "outputs": [
    {
     "data": {
      "text/html": [
       "<div>\n",
       "<style scoped>\n",
       "    .dataframe tbody tr th:only-of-type {\n",
       "        vertical-align: middle;\n",
       "    }\n",
       "\n",
       "    .dataframe tbody tr th {\n",
       "        vertical-align: top;\n",
       "    }\n",
       "\n",
       "    .dataframe thead th {\n",
       "        text-align: right;\n",
       "    }\n",
       "</style>\n",
       "<table border=\"1\" class=\"dataframe\">\n",
       "  <thead>\n",
       "    <tr style=\"text-align: right;\">\n",
       "      <th></th>\n",
       "      <th>L_1</th>\n",
       "      <th>L_2</th>\n",
       "      <th>A_1</th>\n",
       "      <th>A_2</th>\n",
       "      <th>B_1</th>\n",
       "      <th>B_2</th>\n",
       "      <th>C_1</th>\n",
       "      <th>C_2</th>\n",
       "      <th>A_3</th>\n",
       "      <th>A_4</th>\n",
       "      <th>...</th>\n",
       "      <th>L_5</th>\n",
       "      <th>L_6</th>\n",
       "      <th>L_7</th>\n",
       "      <th>L_8</th>\n",
       "      <th>L_9</th>\n",
       "      <th>L_10</th>\n",
       "      <th>A_5</th>\n",
       "      <th>B_5</th>\n",
       "      <th>C_5</th>\n",
       "      <th>Date</th>\n",
       "    </tr>\n",
       "  </thead>\n",
       "  <tbody>\n",
       "    <tr>\n",
       "      <th>0</th>\n",
       "      <td>-20.470767</td>\n",
       "      <td>-49.583696</td>\n",
       "      <td>-49.737023</td>\n",
       "      <td>-60.125877</td>\n",
       "      <td>-67.684702</td>\n",
       "      <td>-67.213115</td>\n",
       "      <td>-75.635206</td>\n",
       "      <td>-75.398126</td>\n",
       "      <td>-45.568737</td>\n",
       "      <td>-59.348954</td>\n",
       "      <td>...</td>\n",
       "      <td>-77.922564</td>\n",
       "      <td>-65.288020</td>\n",
       "      <td>-21.577296</td>\n",
       "      <td>-5.229818</td>\n",
       "      <td>-20.021259</td>\n",
       "      <td>-53.399733</td>\n",
       "      <td>-100.0</td>\n",
       "      <td>-100.0</td>\n",
       "      <td>-100.0</td>\n",
       "      <td>1970-01-01 00:00:00</td>\n",
       "    </tr>\n",
       "    <tr>\n",
       "      <th>1</th>\n",
       "      <td>-4.874715</td>\n",
       "      <td>-37.094569</td>\n",
       "      <td>-25.009528</td>\n",
       "      <td>-35.579886</td>\n",
       "      <td>-33.459741</td>\n",
       "      <td>-35.514754</td>\n",
       "      <td>-33.369469</td>\n",
       "      <td>-35.644538</td>\n",
       "      <td>-51.259983</td>\n",
       "      <td>-62.808618</td>\n",
       "      <td>...</td>\n",
       "      <td>-77.922564</td>\n",
       "      <td>-59.527626</td>\n",
       "      <td>-8.114661</td>\n",
       "      <td>-7.114716</td>\n",
       "      <td>-4.532685</td>\n",
       "      <td>-52.568426</td>\n",
       "      <td>-100.0</td>\n",
       "      <td>-100.0</td>\n",
       "      <td>-100.0</td>\n",
       "      <td>1970-01-01 00:00:01</td>\n",
       "    </tr>\n",
       "    <tr>\n",
       "      <th>2</th>\n",
       "      <td>25.132878</td>\n",
       "      <td>-40.673543</td>\n",
       "      <td>-25.040018</td>\n",
       "      <td>-35.461876</td>\n",
       "      <td>-33.527460</td>\n",
       "      <td>-35.659016</td>\n",
       "      <td>-33.274612</td>\n",
       "      <td>-35.644538</td>\n",
       "      <td>-56.656587</td>\n",
       "      <td>-66.582796</td>\n",
       "      <td>...</td>\n",
       "      <td>-77.922564</td>\n",
       "      <td>-67.083467</td>\n",
       "      <td>22.033657</td>\n",
       "      <td>-17.198404</td>\n",
       "      <td>25.123377</td>\n",
       "      <td>-47.439417</td>\n",
       "      <td>-100.0</td>\n",
       "      <td>-100.0</td>\n",
       "      <td>-100.0</td>\n",
       "      <td>1970-01-01 00:00:02</td>\n",
       "    </tr>\n",
       "    <tr>\n",
       "      <th>3</th>\n",
       "      <td>-90.508732</td>\n",
       "      <td>-76.363862</td>\n",
       "      <td>-25.238204</td>\n",
       "      <td>-35.592998</td>\n",
       "      <td>-33.459741</td>\n",
       "      <td>-35.593443</td>\n",
       "      <td>-33.396572</td>\n",
       "      <td>-35.552789</td>\n",
       "      <td>-52.903776</td>\n",
       "      <td>-61.912250</td>\n",
       "      <td>...</td>\n",
       "      <td>-77.922564</td>\n",
       "      <td>-98.546543</td>\n",
       "      <td>-85.325157</td>\n",
       "      <td>-41.011974</td>\n",
       "      <td>-91.739428</td>\n",
       "      <td>-93.192691</td>\n",
       "      <td>-100.0</td>\n",
       "      <td>-100.0</td>\n",
       "      <td>-100.0</td>\n",
       "      <td>1970-01-01 00:00:03</td>\n",
       "    </tr>\n",
       "    <tr>\n",
       "      <th>4</th>\n",
       "      <td>-95.641610</td>\n",
       "      <td>-62.582329</td>\n",
       "      <td>-24.963793</td>\n",
       "      <td>-35.488101</td>\n",
       "      <td>-33.459741</td>\n",
       "      <td>-35.449180</td>\n",
       "      <td>-33.369469</td>\n",
       "      <td>-35.552789</td>\n",
       "      <td>-56.377452</td>\n",
       "      <td>-64.239660</td>\n",
       "      <td>...</td>\n",
       "      <td>-77.922564</td>\n",
       "      <td>-82.718820</td>\n",
       "      <td>-92.213349</td>\n",
       "      <td>-24.248745</td>\n",
       "      <td>-96.082302</td>\n",
       "      <td>-70.919928</td>\n",
       "      <td>-100.0</td>\n",
       "      <td>-100.0</td>\n",
       "      <td>-100.0</td>\n",
       "      <td>1970-01-01 00:00:04</td>\n",
       "    </tr>\n",
       "  </tbody>\n",
       "</table>\n",
       "<p>5 rows × 26 columns</p>\n",
       "</div>"
      ],
      "text/plain": [
       "         L_1        L_2        A_1        A_2        B_1        B_2  \\\n",
       "0 -20.470767 -49.583696 -49.737023 -60.125877 -67.684702 -67.213115   \n",
       "1  -4.874715 -37.094569 -25.009528 -35.579886 -33.459741 -35.514754   \n",
       "2  25.132878 -40.673543 -25.040018 -35.461876 -33.527460 -35.659016   \n",
       "3 -90.508732 -76.363862 -25.238204 -35.592998 -33.459741 -35.593443   \n",
       "4 -95.641610 -62.582329 -24.963793 -35.488101 -33.459741 -35.449180   \n",
       "\n",
       "         C_1        C_2        A_3        A_4  ...        L_5        L_6  \\\n",
       "0 -75.635206 -75.398126 -45.568737 -59.348954  ... -77.922564 -65.288020   \n",
       "1 -33.369469 -35.644538 -51.259983 -62.808618  ... -77.922564 -59.527626   \n",
       "2 -33.274612 -35.644538 -56.656587 -66.582796  ... -77.922564 -67.083467   \n",
       "3 -33.396572 -35.552789 -52.903776 -61.912250  ... -77.922564 -98.546543   \n",
       "4 -33.369469 -35.552789 -56.377452 -64.239660  ... -77.922564 -82.718820   \n",
       "\n",
       "         L_7        L_8        L_9       L_10    A_5    B_5    C_5  \\\n",
       "0 -21.577296  -5.229818 -20.021259 -53.399733 -100.0 -100.0 -100.0   \n",
       "1  -8.114661  -7.114716  -4.532685 -52.568426 -100.0 -100.0 -100.0   \n",
       "2  22.033657 -17.198404  25.123377 -47.439417 -100.0 -100.0 -100.0   \n",
       "3 -85.325157 -41.011974 -91.739428 -93.192691 -100.0 -100.0 -100.0   \n",
       "4 -92.213349 -24.248745 -96.082302 -70.919928 -100.0 -100.0 -100.0   \n",
       "\n",
       "                 Date  \n",
       "0 1970-01-01 00:00:00  \n",
       "1 1970-01-01 00:00:01  \n",
       "2 1970-01-01 00:00:02  \n",
       "3 1970-01-01 00:00:03  \n",
       "4 1970-01-01 00:00:04  \n",
       "\n",
       "[5 rows x 26 columns]"
      ]
     },
     "execution_count": 63,
     "metadata": {},
     "output_type": "execute_result"
    }
   ],
   "source": [
    "df.head()"
   ]
  },
  {
   "cell_type": "markdown",
   "metadata": {},
   "source": [
    "<font color='teal'>**Melt data and reshape the columns**</font>\n",
    "\n",
    "Transform data to an analysis friendly shape as needed. Turn columns into rows."
   ]
  },
  {
   "cell_type": "code",
   "execution_count": 64,
   "metadata": {},
   "outputs": [],
   "source": [
    "# Melt the dataset and create new columns\n",
    "df_melt = pd.melt(df, id_vars='Date', var_name='SensorType', value_name='SensorReading')\n",
    "df_melt['SensorType'] = df_melt.SensorType.str.split('_')\n",
    "df_melt['Sensor'] = df_melt.SensorType.str.get(1)\n",
    "df_melt['SensorType'] = df_melt.SensorType.str.get(0)\n",
    "cols = ['Date', 'SensorType', 'Sensor', 'SensorReading']\n",
    "df_melt = df_melt[cols]"
   ]
  },
  {
   "cell_type": "code",
   "execution_count": 65,
   "metadata": {},
   "outputs": [
    {
     "name": "stdout",
     "output_type": "stream",
     "text": [
      "<class 'pandas.core.frame.DataFrame'>\n",
      "RangeIndex: 5710600 entries, 0 to 5710599\n",
      "Data columns (total 4 columns):\n",
      " #   Column         Dtype         \n",
      "---  ------         -----         \n",
      " 0   Date           datetime64[ns]\n",
      " 1   SensorType     object        \n",
      " 2   Sensor         object        \n",
      " 3   SensorReading  float64       \n",
      "dtypes: datetime64[ns](1), float64(1), object(2)\n",
      "memory usage: 174.3+ MB\n"
     ]
    }
   ],
   "source": [
    "df_melt.info()"
   ]
  },
  {
   "cell_type": "markdown",
   "metadata": {},
   "source": [
    "<font color='teal'>**Let's remove duplicates from the dataframe**</font>"
   ]
  },
  {
   "cell_type": "code",
   "execution_count": 66,
   "metadata": {},
   "outputs": [],
   "source": [
    "df_melt = df_melt.drop_duplicates()"
   ]
  },
  {
   "cell_type": "code",
   "execution_count": 67,
   "metadata": {},
   "outputs": [
    {
     "data": {
      "text/plain": [
       "(5143307, 4)"
      ]
     },
     "execution_count": 67,
     "metadata": {},
     "output_type": "execute_result"
    }
   ],
   "source": [
    "df_melt.shape"
   ]
  },
  {
   "cell_type": "markdown",
   "metadata": {},
   "source": [
    "<font color='teal'>**Let's convert the columns \"SensorType\" and \"Sensor\" to types category and integer respectively.\n",
    "Converting \"SensorType\" into category data type will make the DataFrame smaller in memory and also can be utilized by other Python libraries for analysis.**</font>"
   ]
  },
  {
   "cell_type": "code",
   "execution_count": 68,
   "metadata": {},
   "outputs": [
    {
     "name": "stdout",
     "output_type": "stream",
     "text": [
      "Date             datetime64[ns]\n",
      "SensorType               object\n",
      "Sensor                   object\n",
      "SensorReading           float64\n",
      "dtype: object\n"
     ]
    }
   ],
   "source": [
    "# first check the data types of the dataframe\n",
    "print(df_melt.dtypes)"
   ]
  },
  {
   "cell_type": "code",
   "execution_count": 69,
   "metadata": {},
   "outputs": [],
   "source": [
    "df_melt['SensorType'] = df_melt['SensorType'].astype('category')\n",
    "df_melt['Sensor'] = df_melt['Sensor'].astype('int')"
   ]
  },
  {
   "cell_type": "code",
   "execution_count": 70,
   "metadata": {},
   "outputs": [
    {
     "name": "stdout",
     "output_type": "stream",
     "text": [
      "Date             datetime64[ns]\n",
      "SensorType             category\n",
      "Sensor                    int32\n",
      "SensorReading           float64\n",
      "dtype: object\n"
     ]
    }
   ],
   "source": [
    "print(df_melt.dtypes)"
   ]
  },
  {
   "cell_type": "code",
   "execution_count": 71,
   "metadata": {},
   "outputs": [
    {
     "data": {
      "text/html": [
       "<div>\n",
       "<style scoped>\n",
       "    .dataframe tbody tr th:only-of-type {\n",
       "        vertical-align: middle;\n",
       "    }\n",
       "\n",
       "    .dataframe tbody tr th {\n",
       "        vertical-align: top;\n",
       "    }\n",
       "\n",
       "    .dataframe thead th {\n",
       "        text-align: right;\n",
       "    }\n",
       "</style>\n",
       "<table border=\"1\" class=\"dataframe\">\n",
       "  <thead>\n",
       "    <tr style=\"text-align: right;\">\n",
       "      <th></th>\n",
       "      <th>Date</th>\n",
       "      <th>SensorType</th>\n",
       "      <th>Sensor</th>\n",
       "      <th>SensorReading</th>\n",
       "    </tr>\n",
       "  </thead>\n",
       "  <tbody>\n",
       "    <tr>\n",
       "      <th>0</th>\n",
       "      <td>1970-01-01 00:00:00</td>\n",
       "      <td>L</td>\n",
       "      <td>1</td>\n",
       "      <td>-20.470767</td>\n",
       "    </tr>\n",
       "    <tr>\n",
       "      <th>1</th>\n",
       "      <td>1970-01-01 00:00:01</td>\n",
       "      <td>L</td>\n",
       "      <td>1</td>\n",
       "      <td>-4.874715</td>\n",
       "    </tr>\n",
       "    <tr>\n",
       "      <th>2</th>\n",
       "      <td>1970-01-01 00:00:02</td>\n",
       "      <td>L</td>\n",
       "      <td>1</td>\n",
       "      <td>25.132878</td>\n",
       "    </tr>\n",
       "    <tr>\n",
       "      <th>3</th>\n",
       "      <td>1970-01-01 00:00:03</td>\n",
       "      <td>L</td>\n",
       "      <td>1</td>\n",
       "      <td>-90.508732</td>\n",
       "    </tr>\n",
       "    <tr>\n",
       "      <th>4</th>\n",
       "      <td>1970-01-01 00:00:04</td>\n",
       "      <td>L</td>\n",
       "      <td>1</td>\n",
       "      <td>-95.641610</td>\n",
       "    </tr>\n",
       "  </tbody>\n",
       "</table>\n",
       "</div>"
      ],
      "text/plain": [
       "                 Date SensorType  Sensor  SensorReading\n",
       "0 1970-01-01 00:00:00          L       1     -20.470767\n",
       "1 1970-01-01 00:00:01          L       1      -4.874715\n",
       "2 1970-01-01 00:00:02          L       1      25.132878\n",
       "3 1970-01-01 00:00:03          L       1     -90.508732\n",
       "4 1970-01-01 00:00:04          L       1     -95.641610"
      ]
     },
     "execution_count": 71,
     "metadata": {},
     "output_type": "execute_result"
    }
   ],
   "source": [
    "df_melt.head()"
   ]
  },
  {
   "cell_type": "markdown",
   "metadata": {},
   "source": [
    "<font color='teal'>**Let's check the count of unique values.**</font>"
   ]
  },
  {
   "cell_type": "code",
   "execution_count": 72,
   "metadata": {},
   "outputs": [
    {
     "data": {
      "text/plain": [
       "L    2231789\n",
       "B     981155\n",
       "A     966366\n",
       "C     963997\n",
       "Name: SensorType, dtype: int64"
      ]
     },
     "execution_count": 72,
     "metadata": {},
     "output_type": "execute_result"
    }
   ],
   "source": [
    "df_melt['SensorType'].value_counts()"
   ]
  },
  {
   "cell_type": "markdown",
   "metadata": {},
   "source": [
    "<font color='teal'>**Let's take a look at the histogram of the data**</font>"
   ]
  },
  {
   "cell_type": "code",
   "execution_count": 73,
   "metadata": {},
   "outputs": [
    {
     "data": {
      "image/png": "[encoded data removed]",
      "text/plain": [
       "<Figure size 576x396 with 1 Axes>"
      ]
     },
     "metadata": {},
     "output_type": "display_data"
    }
   ],
   "source": [
    "df_melt['SensorReading'].plot(kind='hist', rot=70, logy=True)\n",
    "plt.show()"
   ]
  },
  {
   "cell_type": "markdown",
   "metadata": {},
   "source": [
    "<font color='teal'>**Let's take a look at the boxplot of the data to see if there are any outliers**</font>"
   ]
  },
  {
   "cell_type": "code",
   "execution_count": 75,
   "metadata": {},
   "outputs": [
    {
     "data": {
      "image/png": "[encoded data removed]",
      "text/plain": [
       "<Figure size 216x360 with 1 Axes>"
      ]
     },
     "metadata": {},
     "output_type": "display_data"
    }
   ],
   "source": [
    "# Boxplot\n",
    "tidy = df_melt.drop(['Date', 'Sensor'], axis=1)\n",
    "boxplots = tidy.boxplot(grid=False, vert=False,fontsize=20, figsize=(3,5))"
   ]
  },
  {
   "cell_type": "markdown",
   "metadata": {},
   "source": [
    "<font color='teal'>**Let's export the tidy data into a CSV file to be used for analysis**</font>"
   ]
  },
  {
   "cell_type": "code",
   "execution_count": 76,
   "metadata": {},
   "outputs": [],
   "source": [
    "path = 'C:\\\\Users\\\\Bauyrjan.Jyenis\\\\Capstone2_Project\\\\capstone\\\\data\\\\interim'\n",
    "os.chdir(path)"
   ]
  },
  {
   "cell_type": "code",
   "execution_count": 77,
   "metadata": {},
   "outputs": [],
   "source": [
    "# Write the dataframe to csv \n",
    "df_melt.to_csv('step2_output.csv')"
   ]
  }
 ],
 "metadata": {
  "kernelspec": {
   "display_name": "Python 3",
   "language": "python",
   "name": "python3"
  },
  "language_info": {
   "codemirror_mode": {
    "name": "ipython",
    "version": 3
   },
   "file_extension": ".py",
   "mimetype": "text/x-python",
   "name": "python",
   "nbconvert_exporter": "python",
   "pygments_lexer": "ipython3",
   "version": "3.7.6"
  }
 },
 "nbformat": 4,
 "nbformat_minor": 4
}
