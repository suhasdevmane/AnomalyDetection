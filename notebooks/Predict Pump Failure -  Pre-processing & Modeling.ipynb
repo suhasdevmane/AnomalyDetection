{
 "cells": [
  {
   "cell_type": "markdown",
   "metadata": {},
   "source": [
    "# Predict Failure of the Pump"
   ]
  },
  {
   "cell_type": "markdown",
   "metadata": {},
   "source": [
    "## Step 1 Problem Identification\n",
    "\n",
    "#### Problem Statement: \n",
    "    Detect anomalies in the sensor readings from the pump sensors and predict the next failure of the pump with at least \n",
    "    75% accuracy. \n",
    "        \n",
    "#### Context:\n",
    "\n",
    "    Company XYZ operates a water distribution plant that supplies water to the town of ABC. The water distribution system \n",
    "    consists of number of pumps and one of the main pumps failed 7 times last year which resulted in an interruption of \n",
    "    water supplly for the households in the town and lead to some serious health problems for number of families. The team \n",
    "    of reliability engineers could not see any pattern in the data when the system failed and therefore could not identify \n",
    "    the cause of the problem. In order to prevent the same failure from happening in the future again, the XYZ company \n",
    "    wants to be able to detect the potential issue in advance and be able to control and mitigate the risk of failure. \n",
    "    There is one particular pump that is the most important and is equiped with 51 sensors which measure different types of \n",
    "    functionalities of the pump. \n",
    "\n",
    "#### Criteria For Success:\n",
    "    A model that predicts with at least 75% accuracy and generalizes on other samples without underfitting or overfitting.\n",
    "\n",
    "#### Scope of the Solution Space:\n",
    "    The scope of this project is limited to developing a model that detects anomalies and predicts failures of water pumps \n",
    "    based on raw sensor data. The model will not be intended to be used for detecting credit frauds or any other use cases \n",
    "    outside the scope of this project. \n",
    "\n",
    "#### Contraints:\n",
    "    Data set is limited to the sensor readings from a single pump hence may not be the best representation of all the \n",
    "    pumps. Computing power might become a constraint for effectively visualizing all 51 features at the same time.\n",
    "\n",
    "#### Stakeholders:\n",
    "    Samwell Tarly - Maintenance Manager of the XYZ Company\n",
    "\n",
    "#### Data:\n",
    "    The data set is sourced from https://www.kaggle.com/nphantawee/pump-sensor-data and consists of 51 numerical features \n",
    "    and a categorical label. 51 numerical features contain raw sensor readings from 51 different sensors that are used to \n",
    "    do condition monitoring of the pump.The label contains string values that represent normal, broken and recovering \n",
    "    operational conditions of the pump. The data set represents 219,521 readings from 51 sensors.   \n",
    "\n",
    "#### Solution Approach: \n",
    "\n",
    "    I will solve this problem by developing a classification model that detects anomalies from the sensor readings and \n",
    "    accordingly predicts the potential failure of the pump. To do that, I will first apply an appropriate unsupervised \n",
    "    learning techniques to undertake dimensionality reduction for the effective visualization of the data and EDA. Then I \n",
    "    will train classification models and will use cross-validation to evaluate their performance to select the best model.\n",
    "\n",
    "#### Project Deliverables: \n",
    "    The deliverables include an app that takes certain features in certain format from a pump and predicts next failure, as \n",
    "    well as a slide deck that explains how the app was developed and verified. In addition, all the code will be available \n",
    "    in a Jupyter notebook in a GitHub repo for each step of the project."
   ]
  },
  {
   "cell_type": "markdown",
   "metadata": {},
   "source": [
    "## Step 4 Pre-processing of the data"
   ]
  },
  {
   "cell_type": "code",
   "execution_count": 1,
   "metadata": {},
   "outputs": [],
   "source": [
    "# Import libraries\n",
    "import numpy as np\n",
    "import pandas as pd\n",
    "import matplotlib.pyplot as plt\n",
    "import seaborn as sns\n",
    "import os\n",
    "import datetime"
   ]
  },
  {
   "cell_type": "markdown",
   "metadata": {},
   "source": [
    "#### 4.1: Load the data"
   ]
  },
  {
   "cell_type": "code",
   "execution_count": 2,
   "metadata": {},
   "outputs": [],
   "source": [
    "# Change the directory to where the data resides\n",
    "path = 'C:\\\\Users\\\\Bauyrjan.Jyenis\\\\Capstone2_Project\\\\capstone\\\\data\\\\processed'\n",
    "os.chdir(path)\n",
    "# import the tidy data from the Step #2\n",
    "df=pd.read_csv('step2-output.csv')\n",
    "# Delete the unnecessary column\n",
    "del df['Unnamed: 0']\n",
    "# Let's convert the data type of timestamp column to datatime format\n",
    "df['date'] = pd.to_datetime(df['date'])"
   ]
  },
  {
   "cell_type": "markdown",
   "metadata": {},
   "source": [
    "#### 4.2: Dummy variable"
   ]
  },
  {
   "cell_type": "code",
   "execution_count": 3,
   "metadata": {},
   "outputs": [
    {
     "data": {
      "text/plain": [
       "NORMAL        205067\n",
       "RECOVERING     14447\n",
       "BROKEN             7\n",
       "Name: machine_status, dtype: int64"
      ]
     },
     "execution_count": 3,
     "metadata": {},
     "output_type": "execute_result"
    }
   ],
   "source": [
    "df['machine_status'].value_counts()"
   ]
  },
  {
   "cell_type": "markdown",
   "metadata": {},
   "source": [
    "I will combine RECOVERING AND BROKEN states under a single class of 0 that implies NOT NORMAL situation. And I will label NORMAL state as 1 that implies NORMAL.\n",
    "\n",
    "0: NOT NORMAL\n",
    "\n",
    "1: NORMAL"
   ]
  },
  {
   "cell_type": "code",
   "execution_count": 4,
   "metadata": {},
   "outputs": [
    {
     "data": {
      "text/plain": [
       "1    205067\n",
       "0     14454\n",
       "Name: machine_status, dtype: int64"
      ]
     },
     "execution_count": 4,
     "metadata": {},
     "output_type": "execute_result"
    }
   ],
   "source": [
    "df2=df.copy()\n",
    "df2.loc[df2['machine_status'] == 'RECOVERING', 'machine_status'] = 0\n",
    "df2.loc[df2['machine_status'] == 'BROKEN', 'machine_status'] = 0\n",
    "df2.loc[df2['machine_status'] == 'NORMAL', 'machine_status'] = 1\n",
    "df2['machine_status'] = pd.to_numeric(df2['machine_status'])\n",
    "df2['machine_status'].value_counts()"
   ]
  },
  {
   "cell_type": "markdown",
   "metadata": {},
   "source": [
    "#### 4.3:  Classes are imbalanced  - Bootstrapping\n",
    "\n",
    "Address the imbalance in the data by exploring technique mentioned in the following article\n",
    "\n",
    "https://machinelearningmastery.com/tactics-to-combat-imbalanced-classes-in-your-machine-learning-dataset/"
   ]
  },
  {
   "cell_type": "code",
   "execution_count": 5,
   "metadata": {},
   "outputs": [
    {
     "data": {
      "text/plain": [
       "Index(['sensor_00', 'sensor_01', 'sensor_02', 'sensor_03', 'sensor_04',\n",
       "       'sensor_05', 'sensor_06', 'sensor_07', 'sensor_08', 'sensor_09',\n",
       "       'sensor_10', 'sensor_11', 'sensor_12', 'sensor_13', 'sensor_14',\n",
       "       'sensor_16', 'sensor_17', 'sensor_18', 'sensor_19', 'sensor_20',\n",
       "       'sensor_21', 'sensor_22', 'sensor_23', 'sensor_24', 'sensor_25',\n",
       "       'sensor_26', 'sensor_27', 'sensor_28', 'sensor_29', 'sensor_30',\n",
       "       'sensor_31', 'sensor_32', 'sensor_33', 'sensor_34', 'sensor_35',\n",
       "       'sensor_36', 'sensor_37', 'sensor_38', 'sensor_39', 'sensor_40',\n",
       "       'sensor_41', 'sensor_42', 'sensor_43', 'sensor_44', 'sensor_45',\n",
       "       'sensor_46', 'sensor_47', 'sensor_48', 'sensor_49', 'sensor_50',\n",
       "       'sensor_51', 'machine_status', 'date'],\n",
       "      dtype='object')"
      ]
     },
     "execution_count": 5,
     "metadata": {},
     "output_type": "execute_result"
    }
   ],
   "source": [
    "# Extract NOT NORMAL for bootstrapping \n",
    "NotNormal = df2[df2['machine_status']==0]\n",
    "# Extract NORMAL \n",
    "Normal = df2[df2['machine_status']==1]\n",
    "# NOT NORMAL\n",
    "NotNormal.columns"
   ]
  },
  {
   "cell_type": "code",
   "execution_count": 6,
   "metadata": {},
   "outputs": [],
   "source": [
    "# Bootstrap sample\n",
    "# Resample observations that is 40% of the original data set\n",
    "bs_sample=NotNormal.sample(round(0.4*df2.shape[0]), replace=True)"
   ]
  },
  {
   "cell_type": "code",
   "execution_count": 7,
   "metadata": {},
   "outputs": [
    {
     "data": {
      "text/plain": [
       "0    87808\n",
       "Name: machine_status, dtype: int64"
      ]
     },
     "execution_count": 7,
     "metadata": {},
     "output_type": "execute_result"
    }
   ],
   "source": [
    "# Check and verify counts\n",
    "bs_sample['machine_status'].value_counts()"
   ]
  },
  {
   "cell_type": "code",
   "execution_count": 8,
   "metadata": {},
   "outputs": [
    {
     "data": {
      "text/plain": [
       "1    205067\n",
       "0     87808\n",
       "Name: machine_status, dtype: int64"
      ]
     },
     "execution_count": 8,
     "metadata": {},
     "output_type": "execute_result"
    }
   ],
   "source": [
    "# Reset the index\n",
    "bs_sample.reset_index(drop=True, inplace=True)\n",
    "# Combine bootstrap of NOT NORMAL and NORMAL into single dataframe\n",
    "dfFinal = pd.concat([bs_sample, Normal]).reset_index(drop=True)\n",
    "dfFinal['machine_status'].value_counts()"
   ]
  },
  {
   "cell_type": "markdown",
   "metadata": {},
   "source": [
    "#### 4.4: Feature scaling\n",
    "The continuous variables in our dataset are at varying scales. For instance if you refer back to the histograms above you can see that the variable “sensor_00” ranges from 0 to 2.54, whilst “sensor_31” ranges from 24 to 1800. This poses a problem for many popular machine learning algorithms which often use Euclidian distance between data points to make the final predictions. Standardising the scale for all continuous variables can often result in an increase in performance of machine learning models. As the values don't follow normal distribution, I will use MinMaxScaler as opposed to StandardScaler.\n",
    "\n",
    "Useful article about the topic: https://medium.com/vickdata/four-feature-types-and-how-to-transform-them-for-machine-learning-8693e1c24e80"
   ]
  },
  {
   "cell_type": "code",
   "execution_count": 9,
   "metadata": {},
   "outputs": [
    {
     "data": {
      "text/plain": [
       "Index(['sensor_00', 'sensor_01', 'sensor_02', 'sensor_03', 'sensor_04',\n",
       "       'sensor_05', 'sensor_06', 'sensor_07', 'sensor_08', 'sensor_09',\n",
       "       'sensor_10', 'sensor_11', 'sensor_12', 'sensor_13', 'sensor_14',\n",
       "       'sensor_16', 'sensor_17', 'sensor_18', 'sensor_19', 'sensor_20',\n",
       "       'sensor_21', 'sensor_22', 'sensor_23', 'sensor_24', 'sensor_25',\n",
       "       'sensor_26', 'sensor_27', 'sensor_28', 'sensor_29', 'sensor_30',\n",
       "       'sensor_31', 'sensor_32', 'sensor_33', 'sensor_34', 'sensor_35',\n",
       "       'sensor_36', 'sensor_37', 'sensor_38', 'sensor_39', 'sensor_40',\n",
       "       'sensor_41', 'sensor_42', 'sensor_43', 'sensor_44', 'sensor_45',\n",
       "       'sensor_46', 'sensor_47', 'sensor_48', 'sensor_49', 'sensor_50',\n",
       "       'sensor_51', 'machine_status', 'date'],\n",
       "      dtype='object')"
      ]
     },
     "execution_count": 9,
     "metadata": {},
     "output_type": "execute_result"
    }
   ],
   "source": [
    "from sklearn import preprocessing\n",
    "cols = ['sensor_00', 'sensor_01', 'sensor_02', 'sensor_03', 'sensor_04',\n",
    "       'sensor_05', 'sensor_06', 'sensor_07', 'sensor_08', 'sensor_09',\n",
    "       'sensor_10', 'sensor_11', 'sensor_12', 'sensor_13', 'sensor_14',\n",
    "       'sensor_16', 'sensor_17', 'sensor_18', 'sensor_19', 'sensor_20',\n",
    "       'sensor_21', 'sensor_22', 'sensor_23', 'sensor_24', 'sensor_25',\n",
    "       'sensor_26', 'sensor_27', 'sensor_28', 'sensor_29', 'sensor_30',\n",
    "       'sensor_31', 'sensor_32', 'sensor_33', 'sensor_34', 'sensor_35',\n",
    "       'sensor_36', 'sensor_37', 'sensor_38', 'sensor_39', 'sensor_40',\n",
    "       'sensor_41', 'sensor_42', 'sensor_43', 'sensor_44', 'sensor_45',\n",
    "       'sensor_46', 'sensor_47', 'sensor_48', 'sensor_49', 'sensor_50',\n",
    "       'sensor_51']\n",
    "x = dfFinal[cols]\n",
    "min_max_scaler = preprocessing.MinMaxScaler()\n",
    "x_scaled = min_max_scaler.fit_transform(x)\n",
    "scaled = pd.DataFrame(x_scaled, columns=cols)\n",
    "add = dfFinal.drop(cols, axis=1)\n",
    "df_scaled = pd.concat([scaled, add], axis=1)\n",
    "df_scaled.columns"
   ]
  },
  {
   "cell_type": "code",
   "execution_count": 10,
   "metadata": {},
   "outputs": [
    {
     "data": {
      "text/plain": [
       "1    205067\n",
       "0     87808\n",
       "Name: machine_status, dtype: int64"
      ]
     },
     "execution_count": 10,
     "metadata": {},
     "output_type": "execute_result"
    }
   ],
   "source": [
    "df_scaled['machine_status'].value_counts()"
   ]
  },
  {
   "cell_type": "markdown",
   "metadata": {},
   "source": [
    "#### 4.5:  Dimensionality Reduction with PCA"
   ]
  },
  {
   "cell_type": "code",
   "execution_count": 11,
   "metadata": {},
   "outputs": [],
   "source": [
    "# Let's get the data ready\n",
    "features=['sensor_00', 'sensor_01', 'sensor_02', 'sensor_03', 'sensor_04',\n",
    "       'sensor_05', 'sensor_06', 'sensor_07', 'sensor_08', 'sensor_09',\n",
    "       'sensor_10', 'sensor_11', 'sensor_12', 'sensor_13', 'sensor_14',\n",
    "       'sensor_16', 'sensor_17', 'sensor_18', 'sensor_19', 'sensor_20',\n",
    "       'sensor_21', 'sensor_22', 'sensor_23', 'sensor_24', 'sensor_25',\n",
    "       'sensor_26', 'sensor_27', 'sensor_28', 'sensor_29', 'sensor_30',\n",
    "       'sensor_31', 'sensor_32', 'sensor_33', 'sensor_34', 'sensor_35',\n",
    "       'sensor_36', 'sensor_37', 'sensor_38', 'sensor_39', 'sensor_40',\n",
    "       'sensor_41', 'sensor_42', 'sensor_43', 'sensor_44', 'sensor_45',\n",
    "       'sensor_46', 'sensor_47', 'sensor_48', 'sensor_49', 'sensor_50',\n",
    "       'sensor_51']\n",
    "x = df_scaled.loc[:, features].values"
   ]
  },
  {
   "cell_type": "code",
   "execution_count": 13,
   "metadata": {},
   "outputs": [
    {
     "data": {
      "image/png": "[encoded data removed]",
      "text/plain": [
       "<Figure size 864x360 with 1 Axes>"
      ]
     },
     "metadata": {
      "needs_background": "light"
     },
     "output_type": "display_data"
    }
   ],
   "source": [
    "from sklearn.decomposition import PCA\n",
    "pca = PCA()\n",
    "pca.fit(x)\n",
    "p_components = range(pca.n_components_)\n",
    "_ = plt.figure(figsize=(12,5))\n",
    "_ = plt.bar(p_components, pca.explained_variance_)\n",
    "_ = plt.xlabel('PCA feature')\n",
    "_ = plt.ylabel('Variance')\n",
    "_ = plt.xticks(p_components)\n",
    "plt.show()"
   ]
  },
  {
   "cell_type": "code",
   "execution_count": 14,
   "metadata": {},
   "outputs": [],
   "source": [
    "pca = PCA(n_components=2)\n",
    "principalComponents = pca.fit_transform(x)\n",
    "principalDf = pd.DataFrame(data = principalComponents, columns = ['pca1', 'pca2'])"
   ]
  },
  {
   "cell_type": "code",
   "execution_count": 15,
   "metadata": {},
   "outputs": [
    {
     "data": {
      "text/html": [
       "<div>\n",
       "<style scoped>\n",
       "    .dataframe tbody tr th:only-of-type {\n",
       "        vertical-align: middle;\n",
       "    }\n",
       "\n",
       "    .dataframe tbody tr th {\n",
       "        vertical-align: top;\n",
       "    }\n",
       "\n",
       "    .dataframe thead th {\n",
       "        text-align: right;\n",
       "    }\n",
       "</style>\n",
       "<table border=\"1\" class=\"dataframe\">\n",
       "  <thead>\n",
       "    <tr style=\"text-align: right;\">\n",
       "      <th></th>\n",
       "      <th>pca1</th>\n",
       "      <th>pca2</th>\n",
       "      <th>machine_status</th>\n",
       "    </tr>\n",
       "  </thead>\n",
       "  <tbody>\n",
       "    <tr>\n",
       "      <th>0</th>\n",
       "      <td>-1.016670</td>\n",
       "      <td>0.822949</td>\n",
       "      <td>0</td>\n",
       "    </tr>\n",
       "    <tr>\n",
       "      <th>1</th>\n",
       "      <td>-1.055637</td>\n",
       "      <td>0.316183</td>\n",
       "      <td>0</td>\n",
       "    </tr>\n",
       "    <tr>\n",
       "      <th>2</th>\n",
       "      <td>-1.013143</td>\n",
       "      <td>0.824807</td>\n",
       "      <td>0</td>\n",
       "    </tr>\n",
       "    <tr>\n",
       "      <th>3</th>\n",
       "      <td>-1.066618</td>\n",
       "      <td>0.217389</td>\n",
       "      <td>0</td>\n",
       "    </tr>\n",
       "    <tr>\n",
       "      <th>4</th>\n",
       "      <td>-1.001901</td>\n",
       "      <td>0.270442</td>\n",
       "      <td>0</td>\n",
       "    </tr>\n",
       "  </tbody>\n",
       "</table>\n",
       "</div>"
      ],
      "text/plain": [
       "       pca1      pca2  machine_status\n",
       "0 -1.016670  0.822949               0\n",
       "1 -1.055637  0.316183               0\n",
       "2 -1.013143  0.824807               0\n",
       "3 -1.066618  0.217389               0\n",
       "4 -1.001901  0.270442               0"
      ]
     },
     "execution_count": 15,
     "metadata": {},
     "output_type": "execute_result"
    }
   ],
   "source": [
    "finalDf = pd.concat([principalDf, df_scaled[['machine_status']]], axis = 1)\n",
    "finalDf.head()"
   ]
  },
  {
   "cell_type": "code",
   "execution_count": 16,
   "metadata": {},
   "outputs": [
    {
     "data": {
      "text/plain": [
       "1    205067\n",
       "0     87808\n",
       "Name: machine_status, dtype: int64"
      ]
     },
     "execution_count": 16,
     "metadata": {},
     "output_type": "execute_result"
    }
   ],
   "source": [
    "finalDf['machine_status'].value_counts()"
   ]
  },
  {
   "cell_type": "code",
   "execution_count": 17,
   "metadata": {},
   "outputs": [
    {
     "data": {
      "text/plain": [
       "array([0.3852764 , 0.29541219])"
      ]
     },
     "execution_count": 17,
     "metadata": {},
     "output_type": "execute_result"
    }
   ],
   "source": [
    "pca.explained_variance_ratio_"
   ]
  },
  {
   "cell_type": "markdown",
   "metadata": {},
   "source": [
    "## Step 5 Modeling"
   ]
  },
  {
   "cell_type": "code",
   "execution_count": 15,
   "metadata": {},
   "outputs": [],
   "source": [
    "# Prepare x and y \n",
    "features = ['sensor_00', 'sensor_01', 'sensor_02', 'sensor_03', 'sensor_04',\n",
    "       'sensor_05', 'sensor_06', 'sensor_07', 'sensor_08', 'sensor_09',\n",
    "       'sensor_10', 'sensor_11', 'sensor_12', 'sensor_13', 'sensor_14',\n",
    "       'sensor_16', 'sensor_17', 'sensor_18', 'sensor_19', 'sensor_20',\n",
    "       'sensor_21', 'sensor_22', 'sensor_23', 'sensor_24', 'sensor_25',\n",
    "       'sensor_26', 'sensor_27', 'sensor_28', 'sensor_29', 'sensor_30',\n",
    "       'sensor_31', 'sensor_32', 'sensor_33', 'sensor_34', 'sensor_35',\n",
    "       'sensor_36', 'sensor_37', 'sensor_38', 'sensor_39', 'sensor_40',\n",
    "       'sensor_41', 'sensor_42', 'sensor_43', 'sensor_44', 'sensor_45',\n",
    "       'sensor_46', 'sensor_47', 'sensor_48', 'sensor_49', 'sensor_50',\n",
    "       'sensor_51']\n",
    "x=df2[features]\n",
    "y=df2['machine_status']\n",
    "# Split the data into training and test sets\n",
    "from sklearn.model_selection import train_test_split\n",
    "x_train, x_test, y_train, y_test = train_test_split(x, y, test_size=0.3, random_state=21, stratify=y)"
   ]
  },
  {
   "cell_type": "markdown",
   "metadata": {},
   "source": [
    "#### 5.1: KNN - Unscaled Data"
   ]
  },
  {
   "cell_type": "code",
   "execution_count": 25,
   "metadata": {},
   "outputs": [
    {
     "data": {
      "text/plain": [
       "0.9996355740467984"
      ]
     },
     "execution_count": 25,
     "metadata": {},
     "output_type": "execute_result"
    }
   ],
   "source": [
    "# Train KNN on training set with k=6\n",
    "from sklearn.neighbors import KNeighborsClassifier\n",
    "knn = KNeighborsClassifier(n_neighbors = 6)\n",
    "knn.fit(x_train, y_train)\n",
    "y_pred=knn.predict(x_test)\n",
    "knn.score(x_test, y_test)"
   ]
  },
  {
   "cell_type": "code",
   "execution_count": 26,
   "metadata": {},
   "outputs": [
    {
     "name": "stdout",
     "output_type": "stream",
     "text": [
      "[[    0     1]\n",
      " [ 4350 61507]]\n"
     ]
    }
   ],
   "source": [
    "# Look at the prediction outcome\n",
    "unique_elements, counts_elements = np.unique(y_pred, return_counts=True)\n",
    "print(np.asarray((unique_elements, counts_elements)))"
   ]
  },
  {
   "cell_type": "code",
   "execution_count": 27,
   "metadata": {},
   "outputs": [
    {
     "name": "stdout",
     "output_type": "stream",
     "text": [
      "[[    0     1]\n",
      " [ 4336 61521]]\n"
     ]
    }
   ],
   "source": [
    "# Look at the labels from the actual test set\n",
    "unique_elements, counts_elements = np.unique(y_test, return_counts=True)\n",
    "print(np.asarray((unique_elements, counts_elements)))"
   ]
  },
  {
   "cell_type": "markdown",
   "metadata": {},
   "source": [
    "#### 5.2: KNN - Scaled Data"
   ]
  },
  {
   "cell_type": "code",
   "execution_count": null,
   "metadata": {},
   "outputs": [],
   "source": [
    "# Import libaries\n",
    "from sklearn.preprocessing import StandardScaler\n",
    "from sklearn.pipeline import Pipeline\n",
    "from sklearn.neighbors import KNeighborsClassifier\n",
    "from sklearn.model_selection import train_test_split\n",
    "from sklearn.model_selection import GridSearchCV\n",
    "from sklearn.metrics import confusion_matrix, classification_report, roc_curve, roc_auc_score\n",
    "import warnings\n",
    "warnings.filterwarnings(\"ignore\")\n",
    "# Prepare data\n",
    "x = df2[['sensor_00', 'sensor_01', 'sensor_02', 'sensor_03', 'sensor_04',\n",
    "       'sensor_05', 'sensor_06', 'sensor_07', 'sensor_08', 'sensor_09',\n",
    "       'sensor_10', 'sensor_11', 'sensor_12', 'sensor_13', 'sensor_14',\n",
    "       'sensor_16', 'sensor_17', 'sensor_18', 'sensor_19', 'sensor_20',\n",
    "       'sensor_21', 'sensor_22', 'sensor_23', 'sensor_24', 'sensor_25',\n",
    "       'sensor_26', 'sensor_27', 'sensor_28', 'sensor_29', 'sensor_30',\n",
    "       'sensor_31', 'sensor_32', 'sensor_33', 'sensor_34', 'sensor_35',\n",
    "       'sensor_36', 'sensor_37', 'sensor_38', 'sensor_39', 'sensor_40',\n",
    "       'sensor_41', 'sensor_42', 'sensor_43', 'sensor_44', 'sensor_45',\n",
    "       'sensor_46', 'sensor_47', 'sensor_48', 'sensor_49', 'sensor_50',\n",
    "       'sensor_51']]\n",
    "y = df2['machine_status']\n",
    "# Setup the pipeline\n",
    "steps = [('scaler', StandardScaler()),('knn', KNeighborsClassifier())]\n",
    "# Create the pipeline\n",
    "pipeline = Pipeline(steps)\n",
    "# Setup the hyperparameter grid\n",
    "param_grid = {'knn__n_neighbors': np.arange(1,15)}\n",
    "# Create train and test sets (hold-out sets)\n",
    "x_train, x_test, y_train, y_test = train_test_split(x, y, test_size=0.3, random_state=42, stratify=y)\n",
    "# Instantiate the GridSearchCV\n",
    "knn_cv = GridSearchCV(pipeline, param_grid, cv=5)\n",
    "# Fit to the training set\n",
    "knn_cv.fit(x_train, y_train)\n",
    "# Predict the labels of the test set\n",
    "y_pred = knn_cv.predict(x_test)\n",
    "# Compute and print metrics\n",
    "print(\"Accuracy: {}\".format(knn_cv.best_score_))\n",
    "print(classification_report(y_test, y_pred))\n",
    "print(\"Tuned Model Parameters: {}\".format(knn_cv.best_params_))"
   ]
  },
  {
   "cell_type": "code",
   "execution_count": null,
   "metadata": {},
   "outputs": [],
   "source": [
    "unique_elements, counts_elements = np.unique(y_pred, return_counts=True)\n",
    "print(np.asarray((unique_elements, counts_elements)))"
   ]
  },
  {
   "cell_type": "markdown",
   "metadata": {},
   "source": [
    "#### 5.3: KNN - PCA"
   ]
  },
  {
   "cell_type": "code",
   "execution_count": 16,
   "metadata": {},
   "outputs": [
    {
     "name": "stderr",
     "output_type": "stream",
     "text": [
      "ERROR:root:Internal Python error in the inspect module.\n",
      "Below is the traceback from this internal error.\n",
      "\n"
     ]
    },
    {
     "name": "stdout",
     "output_type": "stream",
     "text": [
      "Traceback (most recent call last):\n",
      "  File \"C:\\Users\\Bauyrjan.Jyenis\\Anaconda3\\lib\\site-packages\\IPython\\core\\interactiveshell.py\", line 3331, in run_code\n",
      "    exec(code_obj, self.user_global_ns, self.user_ns)\n",
      "  File \"<ipython-input-16-d4808af5ff3d>\", line 23, in <module>\n",
      "    knn_cv.fit(x_train, y_train)\n",
      "  File \"C:\\Users\\Bauyrjan.Jyenis\\Anaconda3\\lib\\site-packages\\sklearn\\utils\\validation.py\", line 72, in inner_f\n",
      "    return f(**kwargs)\n",
      "  File \"C:\\Users\\Bauyrjan.Jyenis\\Anaconda3\\lib\\site-packages\\sklearn\\model_selection\\_search.py\", line 736, in fit\n",
      "    self._run_search(evaluate_candidates)\n",
      "  File \"C:\\Users\\Bauyrjan.Jyenis\\Anaconda3\\lib\\site-packages\\sklearn\\model_selection\\_search.py\", line 1188, in _run_search\n",
      "    evaluate_candidates(ParameterGrid(self.param_grid))\n",
      "  File \"C:\\Users\\Bauyrjan.Jyenis\\Anaconda3\\lib\\site-packages\\sklearn\\model_selection\\_search.py\", line 715, in evaluate_candidates\n",
      "    cv.split(X, y, groups)))\n",
      "  File \"C:\\Users\\Bauyrjan.Jyenis\\Anaconda3\\lib\\site-packages\\joblib\\parallel.py\", line 1032, in __call__\n",
      "    while self.dispatch_one_batch(iterator):\n",
      "  File \"C:\\Users\\Bauyrjan.Jyenis\\Anaconda3\\lib\\site-packages\\joblib\\parallel.py\", line 847, in dispatch_one_batch\n",
      "    self._dispatch(tasks)\n",
      "  File \"C:\\Users\\Bauyrjan.Jyenis\\Anaconda3\\lib\\site-packages\\joblib\\parallel.py\", line 765, in _dispatch\n",
      "    job = self._backend.apply_async(batch, callback=cb)\n",
      "  File \"C:\\Users\\Bauyrjan.Jyenis\\Anaconda3\\lib\\site-packages\\joblib\\_parallel_backends.py\", line 206, in apply_async\n",
      "    result = ImmediateResult(func)\n",
      "  File \"C:\\Users\\Bauyrjan.Jyenis\\Anaconda3\\lib\\site-packages\\joblib\\_parallel_backends.py\", line 570, in __init__\n",
      "    self.results = batch()\n",
      "  File \"C:\\Users\\Bauyrjan.Jyenis\\Anaconda3\\lib\\site-packages\\joblib\\parallel.py\", line 253, in __call__\n",
      "    for func, args, kwargs in self.items]\n",
      "  File \"C:\\Users\\Bauyrjan.Jyenis\\Anaconda3\\lib\\site-packages\\joblib\\parallel.py\", line 253, in <listcomp>\n",
      "    for func, args, kwargs in self.items]\n",
      "  File \"C:\\Users\\Bauyrjan.Jyenis\\Anaconda3\\lib\\site-packages\\sklearn\\model_selection\\_validation.py\", line 560, in _fit_and_score\n",
      "    test_scores = _score(estimator, X_test, y_test, scorer)\n",
      "  File \"C:\\Users\\Bauyrjan.Jyenis\\Anaconda3\\lib\\site-packages\\sklearn\\model_selection\\_validation.py\", line 607, in _score\n",
      "    scores = scorer(estimator, X_test, y_test)\n",
      "  File \"C:\\Users\\Bauyrjan.Jyenis\\Anaconda3\\lib\\site-packages\\sklearn\\metrics\\_scorer.py\", line 90, in __call__\n",
      "    score = scorer(estimator, *args, **kwargs)\n",
      "  File \"C:\\Users\\Bauyrjan.Jyenis\\Anaconda3\\lib\\site-packages\\sklearn\\metrics\\_scorer.py\", line 372, in _passthrough_scorer\n",
      "    return estimator.score(*args, **kwargs)\n",
      "  File \"C:\\Users\\Bauyrjan.Jyenis\\Anaconda3\\lib\\site-packages\\sklearn\\utils\\metaestimators.py\", line 119, in <lambda>\n",
      "    out = lambda *args, **kwargs: self.fn(obj, *args, **kwargs)\n",
      "  File \"C:\\Users\\Bauyrjan.Jyenis\\Anaconda3\\lib\\site-packages\\sklearn\\pipeline.py\", line 611, in score\n",
      "    return self.steps[-1][-1].score(Xt, y, **score_params)\n",
      "  File \"C:\\Users\\Bauyrjan.Jyenis\\Anaconda3\\lib\\site-packages\\sklearn\\base.py\", line 499, in score\n",
      "    return accuracy_score(y, self.predict(X), sample_weight=sample_weight)\n",
      "  File \"C:\\Users\\Bauyrjan.Jyenis\\Anaconda3\\lib\\site-packages\\sklearn\\neighbors\\_classification.py\", line 189, in predict\n",
      "    mode, _ = stats.mode(_y[neigh_ind, k], axis=1)\n",
      "  File \"C:\\Users\\Bauyrjan.Jyenis\\Anaconda3\\lib\\site-packages\\scipy\\stats\\stats.py\", line 572, in mode\n",
      "    modes[ind], counts[ind] = _mode1D(a_view[ind])\n",
      "  File \"C:\\Users\\Bauyrjan.Jyenis\\Anaconda3\\lib\\site-packages\\scipy\\stats\\stats.py\", line 559, in _mode1D\n",
      "    vals, cnts = np.unique(a, return_counts=True)\n",
      "  File \"<__array_function__ internals>\", line 6, in unique\n",
      "  File \"C:\\Users\\Bauyrjan.Jyenis\\Anaconda3\\lib\\site-packages\\numpy\\lib\\arraysetops.py\", line 263, in unique\n",
      "    ret = _unique1d(ar, return_index, return_inverse, return_counts)\n",
      "  File \"C:\\Users\\Bauyrjan.Jyenis\\Anaconda3\\lib\\site-packages\\numpy\\lib\\arraysetops.py\", line 303, in _unique1d\n",
      "    ar = np.asanyarray(ar).flatten()\n",
      "KeyboardInterrupt\n",
      "\n",
      "During handling of the above exception, another exception occurred:\n",
      "\n",
      "Traceback (most recent call last):\n",
      "  File \"C:\\Users\\Bauyrjan.Jyenis\\Anaconda3\\lib\\site-packages\\IPython\\core\\interactiveshell.py\", line 2044, in showtraceback\n",
      "    stb = value._render_traceback_()\n",
      "AttributeError: 'KeyboardInterrupt' object has no attribute '_render_traceback_'\n",
      "\n",
      "During handling of the above exception, another exception occurred:\n",
      "\n",
      "Traceback (most recent call last):\n",
      "  File \"C:\\Users\\Bauyrjan.Jyenis\\Anaconda3\\lib\\site-packages\\IPython\\core\\ultratb.py\", line 1148, in get_records\n",
      "    return _fixed_getinnerframes(etb, number_of_lines_of_context, tb_offset)\n",
      "  File \"C:\\Users\\Bauyrjan.Jyenis\\Anaconda3\\lib\\site-packages\\IPython\\core\\ultratb.py\", line 316, in wrapped\n",
      "    return f(*args, **kwargs)\n",
      "  File \"C:\\Users\\Bauyrjan.Jyenis\\Anaconda3\\lib\\site-packages\\IPython\\core\\ultratb.py\", line 350, in _fixed_getinnerframes\n",
      "    records = fix_frame_records_filenames(inspect.getinnerframes(etb, context))\n",
      "  File \"C:\\Users\\Bauyrjan.Jyenis\\Anaconda3\\lib\\inspect.py\", line 1502, in getinnerframes\n",
      "    frameinfo = (tb.tb_frame,) + getframeinfo(tb, context)\n",
      "  File \"C:\\Users\\Bauyrjan.Jyenis\\Anaconda3\\lib\\inspect.py\", line 1460, in getframeinfo\n",
      "    filename = getsourcefile(frame) or getfile(frame)\n",
      "  File \"C:\\Users\\Bauyrjan.Jyenis\\Anaconda3\\lib\\inspect.py\", line 696, in getsourcefile\n",
      "    if getattr(getmodule(object, filename), '__loader__', None) is not None:\n",
      "  File \"C:\\Users\\Bauyrjan.Jyenis\\Anaconda3\\lib\\inspect.py\", line 739, in getmodule\n",
      "    f = getabsfile(module)\n",
      "  File \"C:\\Users\\Bauyrjan.Jyenis\\Anaconda3\\lib\\inspect.py\", line 708, in getabsfile\n",
      "    _filename = getsourcefile(object) or getfile(object)\n",
      "  File \"C:\\Users\\Bauyrjan.Jyenis\\Anaconda3\\lib\\inspect.py\", line 693, in getsourcefile\n",
      "    if os.path.exists(filename):\n",
      "  File \"C:\\Users\\Bauyrjan.Jyenis\\Anaconda3\\lib\\genericpath.py\", line 19, in exists\n",
      "    os.stat(path)\n",
      "KeyboardInterrupt\n"
     ]
    },
    {
     "ename": "KeyboardInterrupt",
     "evalue": "",
     "output_type": "error",
     "traceback": [
      "\u001b[1;31m---------------------------------------------------------------------------\u001b[0m"
     ]
    }
   ],
   "source": [
    "# Import libaries\n",
    "from sklearn.preprocessing import StandardScaler\n",
    "from sklearn.pipeline import Pipeline\n",
    "from sklearn.neighbors import KNeighborsClassifier\n",
    "from sklearn.model_selection import train_test_split\n",
    "from sklearn.model_selection import GridSearchCV\n",
    "from sklearn.metrics import confusion_matrix, classification_report, roc_curve, roc_auc_score\n",
    "import warnings\n",
    "# Prepare x and y - let's start with four features (sensors 04, 28, 31, 36) as per what was discovered from EDA\n",
    "x=finalDf[['pca1', 'pca2']]\n",
    "y=finalDf['machine_status']\n",
    "# Set up steps\n",
    "steps = [('knn', KNeighborsClassifier())]\n",
    "# Create the pipeline\n",
    "pipeline = Pipeline(steps)\n",
    "# Setup the hyperparameter grid\n",
    "param_grid = {'knn__n_neighbors': np.arange(1,50)}\n",
    "# Create train and test sets (hold-out sets)\n",
    "x_train, x_test, y_train, y_test = train_test_split(x, y, test_size=0.3, random_state=42, stratify=y)\n",
    "# Instantiate the GridSearchCV\n",
    "knn_cv = GridSearchCV(pipeline, param_grid, cv=5)\n",
    "# Fit to the training set\n",
    "knn_cv.fit(x_train, y_train)\n",
    "# Predict the labels of the test set\n",
    "y_pred = knn_cv.predict(x_test)\n",
    "# Compute and print metrics\n",
    "print(\"Accuracy: {}\".format(knn_cv.best_score_))\n",
    "print(classification_report(y_test, y_pred))\n",
    "print(\"Tuned Model Parameters: {}\".format(knn_cv.best_params_))"
   ]
  },
  {
   "cell_type": "markdown",
   "metadata": {},
   "source": [
    "#### 5.4: Logistic Regression - Unscaled Data"
   ]
  },
  {
   "cell_type": "code",
   "execution_count": null,
   "metadata": {},
   "outputs": [],
   "source": [
    "# Import libaries\n",
    "from sklearn.preprocessing import StandardScaler\n",
    "from sklearn.pipeline import Pipeline\n",
    "from sklearn.linear_model import LogisticRegression\n",
    "from sklearn.model_selection import train_test_split\n",
    "from sklearn.model_selection import GridSearchCV\n",
    "from sklearn.metrics import confusion_matrix, classification_report, roc_curve, roc_auc_score\n",
    "import warnings\n",
    "warnings.filterwarnings(\"ignore\")\n",
    "# Prepare data\n",
    "x = df2[['sensor_00', 'sensor_01', 'sensor_02', 'sensor_03', 'sensor_04',\n",
    "       'sensor_05', 'sensor_06', 'sensor_07', 'sensor_08', 'sensor_09',\n",
    "       'sensor_10', 'sensor_11', 'sensor_12', 'sensor_13', 'sensor_14',\n",
    "       'sensor_16', 'sensor_17', 'sensor_18', 'sensor_19', 'sensor_20',\n",
    "       'sensor_21', 'sensor_22', 'sensor_23', 'sensor_24', 'sensor_25',\n",
    "       'sensor_26', 'sensor_27', 'sensor_28', 'sensor_29', 'sensor_30',\n",
    "       'sensor_31', 'sensor_32', 'sensor_33', 'sensor_34', 'sensor_35',\n",
    "       'sensor_36', 'sensor_37', 'sensor_38', 'sensor_39', 'sensor_40',\n",
    "       'sensor_41', 'sensor_42', 'sensor_43', 'sensor_44', 'sensor_45',\n",
    "       'sensor_46', 'sensor_47', 'sensor_48', 'sensor_49', 'sensor_50',\n",
    "       'sensor_51']]\n",
    "y = df2['machine_status']\n",
    "# Setup the pipeline\n",
    "steps = [('logreg', LogisticRegression())]\n",
    "# Create the pipeline\n",
    "pipeline = Pipeline(steps)\n",
    "# Setup the hyperparameter grid\n",
    "param_grid = {'logreg__C': np.logspace(-5, 8, 15)}\n",
    "# Create train and test sets (hold-out sets)\n",
    "x_train, x_test, y_train, y_test = train_test_split(x, y, test_size=0.3, random_state=42, stratify=y)\n",
    "# Instantiate the GridSearchCV\n",
    "logreg_cv = GridSearchCV(pipeline, param_grid, cv=5)\n",
    "# Fit to the training set\n",
    "logreg_cv.fit(x_train, y_train)\n",
    "# Predict the labels of the test set\n",
    "y_pred = logreg_cv.predict(x_test)\n",
    "# Compute and print metrics\n",
    "print(\"Accuracy: {}\".format(logreg_cv.score(x_test, y_test)))\n",
    "print(classification_report(y_test, y_pred))\n",
    "print(\"Tuned Model Parameters: {}\".format(logreg_cv.best_params_))"
   ]
  },
  {
   "cell_type": "code",
   "execution_count": null,
   "metadata": {},
   "outputs": [],
   "source": [
    "# ROC curve\n",
    "# Compute predicted probabilities: y_pred_prob\n",
    "y_pred_prob = logreg_cv.predict_proba(x_test)[:,1]\n",
    "\n",
    "# Generate ROC curve values: fpr, tpr, thresholds\n",
    "fpr, tpr, thresholds = roc_curve(y_test, y_pred_prob)\n",
    "\n",
    "# Plot ROC curve\n",
    "plt.plot([0, 1], [0, 1], 'k--')\n",
    "plt.plot(fpr, tpr)\n",
    "plt.xlabel('False Positive Rate')\n",
    "plt.ylabel('True Positive Rate')\n",
    "plt.title('ROC Curve')\n",
    "plt.show()"
   ]
  },
  {
   "cell_type": "markdown",
   "metadata": {},
   "source": [
    "#### 5.5: Logistic Regression - Scaled Data"
   ]
  },
  {
   "cell_type": "code",
   "execution_count": null,
   "metadata": {},
   "outputs": [],
   "source": [
    "# Import libaries\n",
    "from sklearn.preprocessing import StandardScaler\n",
    "from sklearn.pipeline import Pipeline\n",
    "from sklearn.linear_model import LogisticRegression\n",
    "from sklearn.model_selection import train_test_split\n",
    "from sklearn.model_selection import GridSearchCV\n",
    "from sklearn.metrics import confusion_matrix, classification_report, roc_curve, roc_auc_score\n",
    "import warnings\n",
    "warnings.filterwarnings(\"ignore\")\n",
    "# Prepare data\n",
    "x = df2[['sensor_00', 'sensor_01', 'sensor_02', 'sensor_03', 'sensor_04',\n",
    "       'sensor_05', 'sensor_06', 'sensor_07', 'sensor_08', 'sensor_09',\n",
    "       'sensor_10', 'sensor_11', 'sensor_12', 'sensor_13', 'sensor_14',\n",
    "       'sensor_16', 'sensor_17', 'sensor_18', 'sensor_19', 'sensor_20',\n",
    "       'sensor_21', 'sensor_22', 'sensor_23', 'sensor_24', 'sensor_25',\n",
    "       'sensor_26', 'sensor_27', 'sensor_28', 'sensor_29', 'sensor_30',\n",
    "       'sensor_31', 'sensor_32', 'sensor_33', 'sensor_34', 'sensor_35',\n",
    "       'sensor_36', 'sensor_37', 'sensor_38', 'sensor_39', 'sensor_40',\n",
    "       'sensor_41', 'sensor_42', 'sensor_43', 'sensor_44', 'sensor_45',\n",
    "       'sensor_46', 'sensor_47', 'sensor_48', 'sensor_49', 'sensor_50',\n",
    "       'sensor_51']]\n",
    "y = df2['machine_status']\n",
    "# Setup the pipeline\n",
    "steps = [('scaler', StandardScaler()), ('logreg', LogisticRegression())]\n",
    "# Create the pipeline\n",
    "pipeline = Pipeline(steps)\n",
    "# Setup the hyperparameter grid\n",
    "param_grid = {'logreg__C': np.logspace(-5, 8, 15)}\n",
    "# Create train and test sets (hold-out sets)\n",
    "x_train, x_test, y_train, y_test = train_test_split(x, y, test_size=0.3, random_state=42, stratify=y)\n",
    "# Instantiate the GridSearchCV\n",
    "logreg_cv = GridSearchCV(pipeline, param_grid, cv=5)\n",
    "# Fit to the training set\n",
    "logreg_cv.fit(x_train, y_train)\n",
    "# Predict the labels of the test set\n",
    "y_pred = logreg_cv.predict(x_test)\n",
    "# Compute and print metrics\n",
    "print(\"Accuracy: {}\".format(logreg_cv.score(x_test, y_test)))\n",
    "print(classification_report(y_test, y_pred))\n",
    "print(\"Tuned Model Parameters: {}\".format(logreg_cv.best_params_))"
   ]
  },
  {
   "cell_type": "markdown",
   "metadata": {},
   "source": [
    "#### 5.6: Logistic Regression - PCA"
   ]
  },
  {
   "cell_type": "code",
   "execution_count": null,
   "metadata": {},
   "outputs": [],
   "source": [
    "x=finalDf[['pca1', 'pca2']]\n",
    "y=finalDf['machine_status']\n",
    "# Split the data into training and test sets\n",
    "from sklearn.model_selection import train_test_split\n",
    "x_train, x_test, y_train, y_test = train_test_split(x, y, test_size=0.3, random_state=21, stratify=y)\n",
    "logreg = LogisticRegression()\n",
    "logreg.fit(x_train, y_train)\n",
    "y_pred = logreg.predict(x_test)\n",
    "print(confusion_matrix(y_test, y_pred))\n",
    "print(classification_report(y_test, y_pred))"
   ]
  },
  {
   "cell_type": "code",
   "execution_count": null,
   "metadata": {},
   "outputs": [],
   "source": [
    "# ROC curve\n",
    "# Compute predicted probabilities: y_pred_prob\n",
    "y_pred_prob = logreg.predict_proba(x_test)[:,1]\n",
    "\n",
    "# Generate ROC curve values: fpr, tpr, thresholds\n",
    "fpr, tpr, thresholds = roc_curve(y_test, y_pred_prob)\n",
    "\n",
    "# Plot ROC curve\n",
    "plt.plot([0, 1], [0, 1], 'k--')\n",
    "plt.plot(fpr, tpr)\n",
    "plt.xlabel('False Positive Rate')\n",
    "plt.ylabel('True Positive Rate')\n",
    "plt.title('ROC Curve')\n",
    "plt.show()"
   ]
  },
  {
   "cell_type": "markdown",
   "metadata": {},
   "source": [
    "#### 5.7: Decision Tree"
   ]
  },
  {
   "cell_type": "code",
   "execution_count": null,
   "metadata": {},
   "outputs": [],
   "source": [
    "from sklearn.pipeline import Pipeline\n",
    "from sklearn.model_selection import GridSearchCV\n",
    "from sklearn import tree\n",
    "import warnings\n",
    "warnings.filterwarnings('ignore')\n",
    "# Declare a variable called gini_model and use tree.DecisionTreeClassifier. \n",
    "gini_model = tree.DecisionTreeClassifier(criterion='gini', random_state=46)\n",
    "# Set up pipeline steps\n",
    "steps = [('gini', gini_model)]\n",
    "pipeline = Pipeline(steps)\n",
    "# Declare max_depth parameter values\n",
    "param_grid = {'gini__max_depth': [0, 3, 5, 7, 9]}\n",
    "# Instantiate GridSearchCV\n",
    "gini_cv = GridSearchCV(pipeline, param_grid, cv=5)\n",
    "# Call fit() on entr_model\n",
    "gini_cv.fit(x_train, y_train)\n",
    "# Call predict() on entr_model with X_test passed to it, and assign the result to a variable y_pred \n",
    "y_pred = gini_cv.predict(x_test)\n",
    "# Call Series on our y_pred variable with the following: pd.Series(y_pred)\n",
    "pd.Series(y_pred)\n",
    "# Check out entr_model\n",
    "gini_cv"
   ]
  },
  {
   "cell_type": "code",
   "execution_count": null,
   "metadata": {},
   "outputs": [],
   "source": [
    "# Evaulate the cross-validation gini model\n",
    "from sklearn import metrics\n",
    "print(\"Gini impurity model - Cross Validation\")\n",
    "print(\"Accuracy:\", metrics.accuracy_score(y_test,y_pred))\n",
    "print(\"Balanced accuracy:\", metrics.balanced_accuracy_score(y_test,y_pred))\n",
    "print('Precision score' , metrics.precision_score(y_test,y_pred, pos_label = 1))\n",
    "print('Recall score' , metrics.recall_score(y_test,y_pred, pos_label = 0))\n",
    "print(\"Tuned Model Parameters: {}\".format(gini_cv.best_params_))"
   ]
  },
  {
   "cell_type": "code",
   "execution_count": null,
   "metadata": {},
   "outputs": [],
   "source": [
    "np.unique(y_pred, return_counts=True)"
   ]
  },
  {
   "cell_type": "code",
   "execution_count": null,
   "metadata": {},
   "outputs": [],
   "source": [
    "np.unique(y_test, return_counts=True)"
   ]
  },
  {
   "cell_type": "markdown",
   "metadata": {},
   "source": [
    "#### 5.8 Random Forest"
   ]
  },
  {
   "cell_type": "code",
   "execution_count": null,
   "metadata": {},
   "outputs": [],
   "source": [
    "# Import the necessary libraries\n",
    "from sklearn.ensemble import RandomForestClassifier\n",
    "import warnings\n",
    "warnings.filterwarnings('ignore')\n",
    "# Instantiate Random Forest Classifier\n",
    "rf = RandomForestClassifier(random_state=46)\n",
    "# Fit the model to the training set\n",
    "rf.fit(x_train, y_train)\n",
    "# Predict with the model\n",
    "y_pred = rf.predict(x_test)\n",
    "# Call Series on our y_pred variable with the following: pd.Series(y_pred)\n",
    "y_pred = pd.Series(y_pred)"
   ]
  },
  {
   "cell_type": "code",
   "execution_count": null,
   "metadata": {},
   "outputs": [],
   "source": [
    "# Evaulate the Random Forest\n",
    "from sklearn import metrics\n",
    "print(\"Random Forest\")\n",
    "print(\"Accuracy:\", metrics.accuracy_score(y_test,y_pred))\n",
    "print(\"Balanced accuracy:\", metrics.balanced_accuracy_score(y_test,y_pred))\n",
    "print('Precision score' , metrics.precision_score(y_test,y_pred, pos_label = 1))\n",
    "print('Recall score' , metrics.recall_score(y_test,y_pred, pos_label = 0))"
   ]
  }
 ],
 "metadata": {
  "kernelspec": {
   "display_name": "Python 3",
   "language": "python",
   "name": "python3"
  },
  "language_info": {
   "codemirror_mode": {
    "name": "ipython",
    "version": 3
   },
   "file_extension": ".py",
   "mimetype": "text/x-python",
   "name": "python",
   "nbconvert_exporter": "python",
   "pygments_lexer": "ipython3",
   "version": "3.7.6"
  }
 },
 "nbformat": 4,
 "nbformat_minor": 4
}
